{
 "cells": [
  {
   "cell_type": "markdown",
   "metadata": {},
   "source": [
    "## Dense Layer sampling\n",
    "\n",
    "Analysis of order and resolutions of hidden layers in UNet model"
   ]
  },
  {
   "cell_type": "code",
   "execution_count": 44,
   "metadata": {},
   "outputs": [],
   "source": [
    "%load_ext autoreload\n",
    "%autoreload 2"
   ]
  },
  {
   "cell_type": "code",
   "execution_count": 45,
   "metadata": {},
   "outputs": [
    {
     "name": "stdout",
     "output_type": "stream",
     "text": [
      "cuda:2 <class 'torch.device'>\n",
      "Loaded as Lightning module\n"
     ]
    }
   ],
   "source": [
    "import sys\n",
    "sys.path.append('../')\n",
    "\n",
    "# local imports\n",
    "from setup import setup_device, setup_datamodule, load_model\n",
    "\n",
    "device = setup_device('cuda:2')\n",
    "print(device, type(device))\n",
    "\n",
    "model = load_model('../pre-trained/trained_UNets/mnmv2-00-02_22-11-2024-v1.ckpt', device)"
   ]
  },
  {
   "cell_type": "code",
   "execution_count": 46,
   "metadata": {},
   "outputs": [
    {
     "data": {
      "text/plain": [
       "torch.Size([32, 1, 256, 256])"
      ]
     },
     "execution_count": 46,
     "metadata": {},
     "output_type": "execute_result"
    }
   ],
   "source": [
    "datamodule = setup_datamodule()\n",
    "data_sample = next(iter(datamodule.val_dataloader()))['input']\n",
    "\n",
    "data_sample.size() # [batch size, channels, width, hegiht]"
   ]
  },
  {
   "cell_type": "code",
   "execution_count": 47,
   "metadata": {},
   "outputs": [
    {
     "data": {
      "text/plain": [
       "=======================================================================================================================================\n",
       "Layer (type:depth-idx)                                                                Output Shape              Param #\n",
       "=======================================================================================================================================\n",
       "LightningSegmentationModel                                                            [32, 4, 256, 256]         --\n",
       "├─UNet: 1-1                                                                           [32, 4, 256, 256]         --\n",
       "│    └─Sequential: 2-1                                                                [32, 4, 256, 256]         --\n",
       "│    │    └─ResidualUnit: 3-1                                                         [32, 16, 128, 128]        7,284\n",
       "│    │    └─SkipConnection: 3-2                                                       [32, 32, 128, 128]        785,872\n",
       "│    │    └─Sequential: 3-3                                                           [32, 4, 256, 256]         1,305\n",
       "=======================================================================================================================================\n",
       "Total params: 794,461\n",
       "Trainable params: 794,461\n",
       "Non-trainable params: 0\n",
       "Total mult-adds (G): 47.97\n",
       "=======================================================================================================================================\n",
       "Input size (MB): 8.39\n",
       "Forward/backward pass size (MB): 1962.93\n",
       "Params size (MB): 3.18\n",
       "Estimated Total Size (MB): 1974.50\n",
       "======================================================================================================================================="
      ]
     },
     "execution_count": 47,
     "metadata": {},
     "output_type": "execute_result"
    }
   ],
   "source": [
    "from torchinfo import summary\n",
    "\n",
    "summary(model, input_size=data_sample.size())"
   ]
  },
  {
   "cell_type": "code",
   "execution_count": 48,
   "metadata": {},
   "outputs": [],
   "source": [
    "from adapters.main import capture_convolution_layers\n",
    "\n",
    "wrapper, layer_names = capture_convolution_layers(model, device, data_sample)"
   ]
  },
  {
   "cell_type": "code",
   "execution_count": 49,
   "metadata": {},
   "outputs": [
    {
     "name": "stdout",
     "output_type": "stream",
     "text": [
      "001. Layer: model.model.0.conv, Output Shape: torch.Size([32, 1, 256, 256])\n",
      "002. Layer: model.model.0.conv.unit0, Output Shape: torch.Size([32, 1, 256, 256])\n",
      "003. Layer: model.model.0.conv.unit0.conv, Output Shape: torch.Size([32, 1, 256, 256])\n",
      "004. Layer: model.model.0.conv.unit0.adn, Output Shape: torch.Size([32, 16, 128, 128])\n",
      "005. Layer: model.model.0.conv.unit0.adn.N, Output Shape: torch.Size([32, 16, 128, 128])\n",
      "006. Layer: model.model.0.conv.unit0.adn.D, Output Shape: torch.Size([32, 16, 128, 128])\n",
      "007. Layer: model.model.0.conv.unit0.adn.A, Output Shape: torch.Size([32, 16, 128, 128])\n",
      "008. Layer: model.model.0.conv.unit1, Output Shape: torch.Size([32, 16, 128, 128])\n",
      "009. Layer: model.model.0.conv.unit1.conv, Output Shape: torch.Size([32, 16, 128, 128])\n",
      "010. Layer: model.model.0.conv.unit1.adn, Output Shape: torch.Size([32, 16, 128, 128])\n",
      "011. Layer: model.model.0.conv.unit1.adn.N, Output Shape: torch.Size([32, 16, 128, 128])\n",
      "012. Layer: model.model.0.conv.unit1.adn.D, Output Shape: torch.Size([32, 16, 128, 128])\n",
      "013. Layer: model.model.0.conv.unit1.adn.A, Output Shape: torch.Size([32, 16, 128, 128])\n",
      "014. Layer: model.model.0.conv.unit2, Output Shape: torch.Size([32, 16, 128, 128])\n",
      "015. Layer: model.model.0.conv.unit2.conv, Output Shape: torch.Size([32, 16, 128, 128])\n",
      "016. Layer: model.model.0.conv.unit2.adn, Output Shape: torch.Size([32, 16, 128, 128])\n",
      "017. Layer: model.model.0.conv.unit2.adn.N, Output Shape: torch.Size([32, 16, 128, 128])\n",
      "018. Layer: model.model.0.conv.unit2.adn.D, Output Shape: torch.Size([32, 16, 128, 128])\n",
      "019. Layer: model.model.0.conv.unit2.adn.A, Output Shape: torch.Size([32, 16, 128, 128])\n",
      "020. Layer: model.model.0.conv.unit3, Output Shape: torch.Size([32, 16, 128, 128])\n",
      "021. Layer: model.model.0.conv.unit3.conv, Output Shape: torch.Size([32, 16, 128, 128])\n",
      "022. Layer: model.model.0.conv.unit3.adn, Output Shape: torch.Size([32, 16, 128, 128])\n",
      "023. Layer: model.model.0.conv.unit3.adn.N, Output Shape: torch.Size([32, 16, 128, 128])\n",
      "024. Layer: model.model.0.conv.unit3.adn.D, Output Shape: torch.Size([32, 16, 128, 128])\n",
      "025. Layer: model.model.0.conv.unit3.adn.A, Output Shape: torch.Size([32, 16, 128, 128])\n",
      "026. Layer: model.model.1.submodule.0.conv, Output Shape: torch.Size([32, 16, 128, 128])\n",
      "027. Layer: model.model.1.submodule.0.conv.unit0, Output Shape: torch.Size([32, 16, 128, 128])\n",
      "028. Layer: model.model.1.submodule.0.conv.unit0.conv, Output Shape: torch.Size([32, 16, 128, 128])\n",
      "029. Layer: model.model.1.submodule.0.conv.unit0.adn, Output Shape: torch.Size([32, 32, 64, 64])\n",
      "030. Layer: model.model.1.submodule.0.conv.unit0.adn.N, Output Shape: torch.Size([32, 32, 64, 64])\n",
      "031. Layer: model.model.1.submodule.0.conv.unit0.adn.D, Output Shape: torch.Size([32, 32, 64, 64])\n",
      "032. Layer: model.model.1.submodule.0.conv.unit0.adn.A, Output Shape: torch.Size([32, 32, 64, 64])\n",
      "033. Layer: model.model.1.submodule.0.conv.unit1, Output Shape: torch.Size([32, 32, 64, 64])\n",
      "034. Layer: model.model.1.submodule.0.conv.unit1.conv, Output Shape: torch.Size([32, 32, 64, 64])\n",
      "035. Layer: model.model.1.submodule.0.conv.unit1.adn, Output Shape: torch.Size([32, 32, 64, 64])\n",
      "036. Layer: model.model.1.submodule.0.conv.unit1.adn.N, Output Shape: torch.Size([32, 32, 64, 64])\n",
      "037. Layer: model.model.1.submodule.0.conv.unit1.adn.D, Output Shape: torch.Size([32, 32, 64, 64])\n",
      "038. Layer: model.model.1.submodule.0.conv.unit1.adn.A, Output Shape: torch.Size([32, 32, 64, 64])\n",
      "039. Layer: model.model.1.submodule.0.conv.unit2, Output Shape: torch.Size([32, 32, 64, 64])\n",
      "040. Layer: model.model.1.submodule.0.conv.unit2.conv, Output Shape: torch.Size([32, 32, 64, 64])\n",
      "041. Layer: model.model.1.submodule.0.conv.unit2.adn, Output Shape: torch.Size([32, 32, 64, 64])\n",
      "042. Layer: model.model.1.submodule.0.conv.unit2.adn.N, Output Shape: torch.Size([32, 32, 64, 64])\n",
      "043. Layer: model.model.1.submodule.0.conv.unit2.adn.D, Output Shape: torch.Size([32, 32, 64, 64])\n",
      "044. Layer: model.model.1.submodule.0.conv.unit2.adn.A, Output Shape: torch.Size([32, 32, 64, 64])\n",
      "045. Layer: model.model.1.submodule.0.conv.unit3, Output Shape: torch.Size([32, 32, 64, 64])\n",
      "046. Layer: model.model.1.submodule.0.conv.unit3.conv, Output Shape: torch.Size([32, 32, 64, 64])\n",
      "047. Layer: model.model.1.submodule.0.conv.unit3.adn, Output Shape: torch.Size([32, 32, 64, 64])\n",
      "048. Layer: model.model.1.submodule.0.conv.unit3.adn.N, Output Shape: torch.Size([32, 32, 64, 64])\n",
      "049. Layer: model.model.1.submodule.0.conv.unit3.adn.D, Output Shape: torch.Size([32, 32, 64, 64])\n",
      "050. Layer: model.model.1.submodule.0.conv.unit3.adn.A, Output Shape: torch.Size([32, 32, 64, 64])\n",
      "051. Layer: model.model.1.submodule.1.submodule.0.conv, Output Shape: torch.Size([32, 32, 64, 64])\n",
      "052. Layer: model.model.1.submodule.1.submodule.0.conv.unit0, Output Shape: torch.Size([32, 32, 64, 64])\n",
      "053. Layer: model.model.1.submodule.1.submodule.0.conv.unit0.conv, Output Shape: torch.Size([32, 32, 64, 64])\n",
      "054. Layer: model.model.1.submodule.1.submodule.0.conv.unit0.adn, Output Shape: torch.Size([32, 64, 32, 32])\n",
      "055. Layer: model.model.1.submodule.1.submodule.0.conv.unit0.adn.N, Output Shape: torch.Size([32, 64, 32, 32])\n",
      "056. Layer: model.model.1.submodule.1.submodule.0.conv.unit0.adn.D, Output Shape: torch.Size([32, 64, 32, 32])\n",
      "057. Layer: model.model.1.submodule.1.submodule.0.conv.unit0.adn.A, Output Shape: torch.Size([32, 64, 32, 32])\n",
      "058. Layer: model.model.1.submodule.1.submodule.0.conv.unit1, Output Shape: torch.Size([32, 64, 32, 32])\n",
      "059. Layer: model.model.1.submodule.1.submodule.0.conv.unit1.conv, Output Shape: torch.Size([32, 64, 32, 32])\n",
      "060. Layer: model.model.1.submodule.1.submodule.0.conv.unit1.adn, Output Shape: torch.Size([32, 64, 32, 32])\n",
      "061. Layer: model.model.1.submodule.1.submodule.0.conv.unit1.adn.N, Output Shape: torch.Size([32, 64, 32, 32])\n",
      "062. Layer: model.model.1.submodule.1.submodule.0.conv.unit1.adn.D, Output Shape: torch.Size([32, 64, 32, 32])\n",
      "063. Layer: model.model.1.submodule.1.submodule.0.conv.unit1.adn.A, Output Shape: torch.Size([32, 64, 32, 32])\n",
      "064. Layer: model.model.1.submodule.1.submodule.0.conv.unit2, Output Shape: torch.Size([32, 64, 32, 32])\n",
      "065. Layer: model.model.1.submodule.1.submodule.0.conv.unit2.conv, Output Shape: torch.Size([32, 64, 32, 32])\n",
      "066. Layer: model.model.1.submodule.1.submodule.0.conv.unit2.adn, Output Shape: torch.Size([32, 64, 32, 32])\n",
      "067. Layer: model.model.1.submodule.1.submodule.0.conv.unit2.adn.N, Output Shape: torch.Size([32, 64, 32, 32])\n",
      "068. Layer: model.model.1.submodule.1.submodule.0.conv.unit2.adn.D, Output Shape: torch.Size([32, 64, 32, 32])\n",
      "069. Layer: model.model.1.submodule.1.submodule.0.conv.unit2.adn.A, Output Shape: torch.Size([32, 64, 32, 32])\n",
      "070. Layer: model.model.1.submodule.1.submodule.0.conv.unit3, Output Shape: torch.Size([32, 64, 32, 32])\n",
      "071. Layer: model.model.1.submodule.1.submodule.0.conv.unit3.conv, Output Shape: torch.Size([32, 64, 32, 32])\n",
      "072. Layer: model.model.1.submodule.1.submodule.0.conv.unit3.adn, Output Shape: torch.Size([32, 64, 32, 32])\n",
      "073. Layer: model.model.1.submodule.1.submodule.0.conv.unit3.adn.N, Output Shape: torch.Size([32, 64, 32, 32])\n",
      "074. Layer: model.model.1.submodule.1.submodule.0.conv.unit3.adn.D, Output Shape: torch.Size([32, 64, 32, 32])\n",
      "075. Layer: model.model.1.submodule.1.submodule.0.conv.unit3.adn.A, Output Shape: torch.Size([32, 64, 32, 32])\n",
      "076. Layer: model.model.1.submodule.1.submodule.1.submodule.conv, Output Shape: torch.Size([32, 64, 32, 32])\n",
      "077. Layer: model.model.1.submodule.1.submodule.1.submodule.conv.unit0, Output Shape: torch.Size([32, 64, 32, 32])\n",
      "078. Layer: model.model.1.submodule.1.submodule.1.submodule.conv.unit0.conv, Output Shape: torch.Size([32, 64, 32, 32])\n",
      "079. Layer: model.model.1.submodule.1.submodule.1.submodule.conv.unit0.adn, Output Shape: torch.Size([32, 128, 32, 32])\n",
      "080. Layer: model.model.1.submodule.1.submodule.1.submodule.conv.unit0.adn.N, Output Shape: torch.Size([32, 128, 32, 32])\n",
      "081. Layer: model.model.1.submodule.1.submodule.1.submodule.conv.unit0.adn.D, Output Shape: torch.Size([32, 128, 32, 32])\n",
      "082. Layer: model.model.1.submodule.1.submodule.1.submodule.conv.unit0.adn.A, Output Shape: torch.Size([32, 128, 32, 32])\n",
      "083. Layer: model.model.1.submodule.1.submodule.1.submodule.conv.unit1, Output Shape: torch.Size([32, 128, 32, 32])\n",
      "084. Layer: model.model.1.submodule.1.submodule.1.submodule.conv.unit1.conv, Output Shape: torch.Size([32, 128, 32, 32])\n",
      "085. Layer: model.model.1.submodule.1.submodule.1.submodule.conv.unit1.adn, Output Shape: torch.Size([32, 128, 32, 32])\n",
      "086. Layer: model.model.1.submodule.1.submodule.1.submodule.conv.unit1.adn.N, Output Shape: torch.Size([32, 128, 32, 32])\n",
      "087. Layer: model.model.1.submodule.1.submodule.1.submodule.conv.unit1.adn.D, Output Shape: torch.Size([32, 128, 32, 32])\n",
      "088. Layer: model.model.1.submodule.1.submodule.1.submodule.conv.unit1.adn.A, Output Shape: torch.Size([32, 128, 32, 32])\n",
      "089. Layer: model.model.1.submodule.1.submodule.1.submodule.conv.unit2, Output Shape: torch.Size([32, 128, 32, 32])\n",
      "090. Layer: model.model.1.submodule.1.submodule.1.submodule.conv.unit2.conv, Output Shape: torch.Size([32, 128, 32, 32])\n",
      "091. Layer: model.model.1.submodule.1.submodule.1.submodule.conv.unit2.adn, Output Shape: torch.Size([32, 128, 32, 32])\n",
      "092. Layer: model.model.1.submodule.1.submodule.1.submodule.conv.unit2.adn.N, Output Shape: torch.Size([32, 128, 32, 32])\n",
      "093. Layer: model.model.1.submodule.1.submodule.1.submodule.conv.unit2.adn.D, Output Shape: torch.Size([32, 128, 32, 32])\n",
      "094. Layer: model.model.1.submodule.1.submodule.1.submodule.conv.unit2.adn.A, Output Shape: torch.Size([32, 128, 32, 32])\n",
      "095. Layer: model.model.1.submodule.1.submodule.1.submodule.conv.unit3, Output Shape: torch.Size([32, 128, 32, 32])\n",
      "096. Layer: model.model.1.submodule.1.submodule.1.submodule.conv.unit3.conv, Output Shape: torch.Size([32, 128, 32, 32])\n",
      "097. Layer: model.model.1.submodule.1.submodule.1.submodule.conv.unit3.adn, Output Shape: torch.Size([32, 128, 32, 32])\n",
      "098. Layer: model.model.1.submodule.1.submodule.1.submodule.conv.unit3.adn.N, Output Shape: torch.Size([32, 128, 32, 32])\n",
      "099. Layer: model.model.1.submodule.1.submodule.1.submodule.conv.unit3.adn.D, Output Shape: torch.Size([32, 128, 32, 32])\n",
      "100. Layer: model.model.1.submodule.1.submodule.1.submodule.conv.unit3.adn.A, Output Shape: torch.Size([32, 128, 32, 32])\n",
      "101. Layer: model.model.1.submodule.1.submodule.2.0.conv, Output Shape: torch.Size([32, 192, 32, 32])\n",
      "102. Layer: model.model.1.submodule.1.submodule.2.1.conv, Output Shape: torch.Size([32, 32, 64, 64])\n",
      "103. Layer: model.model.1.submodule.1.submodule.2.1.conv.unit0, Output Shape: torch.Size([32, 32, 64, 64])\n",
      "104. Layer: model.model.1.submodule.1.submodule.2.1.conv.unit0.conv, Output Shape: torch.Size([32, 32, 64, 64])\n",
      "105. Layer: model.model.1.submodule.1.submodule.2.1.conv.unit0.adn, Output Shape: torch.Size([32, 32, 64, 64])\n",
      "106. Layer: model.model.1.submodule.1.submodule.2.1.conv.unit0.adn.N, Output Shape: torch.Size([32, 32, 64, 64])\n",
      "107. Layer: model.model.1.submodule.1.submodule.2.1.conv.unit0.adn.D, Output Shape: torch.Size([32, 32, 64, 64])\n",
      "108. Layer: model.model.1.submodule.1.submodule.2.1.conv.unit0.adn.A, Output Shape: torch.Size([32, 32, 64, 64])\n",
      "109. Layer: model.model.1.submodule.2.0.conv, Output Shape: torch.Size([32, 64, 64, 64])\n",
      "110. Layer: model.model.1.submodule.2.1.conv, Output Shape: torch.Size([32, 16, 128, 128])\n",
      "111. Layer: model.model.1.submodule.2.1.conv.unit0, Output Shape: torch.Size([32, 16, 128, 128])\n",
      "112. Layer: model.model.1.submodule.2.1.conv.unit0.conv, Output Shape: torch.Size([32, 16, 128, 128])\n",
      "113. Layer: model.model.1.submodule.2.1.conv.unit0.adn, Output Shape: torch.Size([32, 16, 128, 128])\n",
      "114. Layer: model.model.1.submodule.2.1.conv.unit0.adn.N, Output Shape: torch.Size([32, 16, 128, 128])\n",
      "115. Layer: model.model.1.submodule.2.1.conv.unit0.adn.D, Output Shape: torch.Size([32, 16, 128, 128])\n",
      "116. Layer: model.model.1.submodule.2.1.conv.unit0.adn.A, Output Shape: torch.Size([32, 16, 128, 128])\n",
      "117. Layer: model.model.2.0.conv, Output Shape: torch.Size([32, 32, 128, 128])\n",
      "118. Layer: model.model.2.1.conv, Output Shape: torch.Size([32, 4, 256, 256])\n",
      "119. Layer: model.model.2.1.conv.unit0, Output Shape: torch.Size([32, 4, 256, 256])\n",
      "120. Layer: model.model.2.1.conv.unit0.conv, Output Shape: torch.Size([32, 4, 256, 256])\n"
     ]
    }
   ],
   "source": [
    "for count, (module, output) in enumerate(wrapper.layer_activations.items()):\n",
    "    print(f\"{count+1:0>3}. Layer: {module}, Output Shape: {output.shape}\")"
   ]
  },
  {
   "cell_type": "markdown",
   "metadata": {},
   "source": [
    "Some convolutional blocks are compound consist of subsequent units with normalization and dropouts. Let us do some filtering for compound blocks and choose the final output of those units:"
   ]
  },
  {
   "cell_type": "code",
   "execution_count": 50,
   "metadata": {},
   "outputs": [
    {
     "name": "stdout",
     "output_type": "stream",
     "text": [
      "Sampled 26 convolutional layers within the model:\n"
     ]
    }
   ],
   "source": [
    "import re\n",
    "\n",
    "unit_pattern = r\"(unit\\d+)\"\n",
    "\n",
    "dense_layer_keys = []\n",
    "\n",
    "last_unit_layer = \"\"\n",
    "for count, conv_name in enumerate(wrapper.layer_activations.keys()):\n",
    "    match = re.search(unit_pattern, conv_name)\n",
    "    \n",
    "    if match:\n",
    "        unit_name = match.group(1)\n",
    "\n",
    "        if not last_unit_layer == \"\":\n",
    "            if not re.search(unit_pattern, last_unit_layer).group(1) == unit_name:\n",
    "                # we came to next unit, append the last layer from previously viewed\n",
    "                dense_layer_keys.append(last_unit_layer)\n",
    "        last_unit_layer = conv_name\n",
    "\n",
    "    else:\n",
    "        # it is not a part of unit with normalizations and dropouts, so we can simply append\n",
    "        dense_layer_keys.append(conv_name)\n",
    "\n",
    "print(f\"Sampled {len(dense_layer_keys)} convolutional layers within the model:\")"
   ]
  },
  {
   "cell_type": "code",
   "execution_count": 51,
   "metadata": {},
   "outputs": [
    {
     "data": {
      "text/plain": [
       "['model.model.0.conv',\n",
       " 'model.model.0.conv.unit0.adn.A',\n",
       " 'model.model.0.conv.unit1.adn.A',\n",
       " 'model.model.0.conv.unit2.adn.A',\n",
       " 'model.model.1.submodule.0.conv',\n",
       " 'model.model.0.conv.unit3.adn.A',\n",
       " 'model.model.1.submodule.0.conv.unit0.adn.A',\n",
       " 'model.model.1.submodule.0.conv.unit1.adn.A',\n",
       " 'model.model.1.submodule.0.conv.unit2.adn.A',\n",
       " 'model.model.1.submodule.1.submodule.0.conv',\n",
       " 'model.model.1.submodule.0.conv.unit3.adn.A',\n",
       " 'model.model.1.submodule.1.submodule.0.conv.unit0.adn.A',\n",
       " 'model.model.1.submodule.1.submodule.0.conv.unit1.adn.A',\n",
       " 'model.model.1.submodule.1.submodule.0.conv.unit2.adn.A',\n",
       " 'model.model.1.submodule.1.submodule.1.submodule.conv',\n",
       " 'model.model.1.submodule.1.submodule.0.conv.unit3.adn.A',\n",
       " 'model.model.1.submodule.1.submodule.1.submodule.conv.unit0.adn.A',\n",
       " 'model.model.1.submodule.1.submodule.1.submodule.conv.unit1.adn.A',\n",
       " 'model.model.1.submodule.1.submodule.1.submodule.conv.unit2.adn.A',\n",
       " 'model.model.1.submodule.1.submodule.2.0.conv',\n",
       " 'model.model.1.submodule.1.submodule.2.1.conv',\n",
       " 'model.model.1.submodule.1.submodule.1.submodule.conv.unit3.adn.A',\n",
       " 'model.model.1.submodule.2.0.conv',\n",
       " 'model.model.1.submodule.2.1.conv',\n",
       " 'model.model.2.0.conv',\n",
       " 'model.model.2.1.conv']"
      ]
     },
     "execution_count": 51,
     "metadata": {},
     "output_type": "execute_result"
    }
   ],
   "source": [
    "dense_layer_keys"
   ]
  },
  {
   "cell_type": "markdown",
   "metadata": {},
   "source": [
    "Let us group by resolution and see how many layers for each of the resolutions:"
   ]
  },
  {
   "cell_type": "code",
   "execution_count": 52,
   "metadata": {},
   "outputs": [
    {
     "name": "stdout",
     "output_type": "stream",
     "text": [
      "Found 9 different resolutions:\n",
      "1. 1 layer(s) for resolution [32, 1, 256, 256]\n",
      "2. 6 layer(s) for resolution [32, 16, 128, 128]\n",
      "3. 6 layer(s) for resolution [32, 32, 64, 64]\n",
      "4. 5 layer(s) for resolution [32, 64, 32, 32]\n",
      "5. 4 layer(s) for resolution [32, 128, 32, 32]\n",
      "6. 1 layer(s) for resolution [32, 192, 32, 32]\n",
      "7. 1 layer(s) for resolution [32, 64, 64, 64]\n",
      "8. 1 layer(s) for resolution [32, 32, 128, 128]\n",
      "9. 1 layer(s) for resolution [32, 4, 256, 256]\n"
     ]
    }
   ],
   "source": [
    "size_by_layers = {}\n",
    "\n",
    "for layer_key in dense_layer_keys:\n",
    "    size = wrapper.layer_activations[layer_key].shape\n",
    "    size_str = ', '.join(map(str, size))\n",
    "    size_id = f'[{size_str}]'\n",
    "    if size_id in size_by_layers:\n",
    "        size_by_layers[size_id].append(layer_key)\n",
    "    else:\n",
    "        size_by_layers[size_id] = [layer_key]\n",
    "\n",
    "print(f'Found {len(size_by_layers.keys())} different resolutions:')\n",
    "for count, (key, items) in enumerate(size_by_layers.items()):\n",
    "    print(f\"{count+1}. {len(items)} layer(s) for resolution {key}\")\n"
   ]
  },
  {
   "cell_type": "code",
   "execution_count": 53,
   "metadata": {},
   "outputs": [
    {
     "data": {
      "text/plain": [
       "{'[32, 1, 256, 256]': ['model.model.0.conv'],\n",
       " '[32, 16, 128, 128]': ['model.model.0.conv.unit0.adn.A',\n",
       "  'model.model.0.conv.unit1.adn.A',\n",
       "  'model.model.0.conv.unit2.adn.A',\n",
       "  'model.model.1.submodule.0.conv',\n",
       "  'model.model.0.conv.unit3.adn.A',\n",
       "  'model.model.1.submodule.2.1.conv'],\n",
       " '[32, 32, 64, 64]': ['model.model.1.submodule.0.conv.unit0.adn.A',\n",
       "  'model.model.1.submodule.0.conv.unit1.adn.A',\n",
       "  'model.model.1.submodule.0.conv.unit2.adn.A',\n",
       "  'model.model.1.submodule.1.submodule.0.conv',\n",
       "  'model.model.1.submodule.0.conv.unit3.adn.A',\n",
       "  'model.model.1.submodule.1.submodule.2.1.conv'],\n",
       " '[32, 64, 32, 32]': ['model.model.1.submodule.1.submodule.0.conv.unit0.adn.A',\n",
       "  'model.model.1.submodule.1.submodule.0.conv.unit1.adn.A',\n",
       "  'model.model.1.submodule.1.submodule.0.conv.unit2.adn.A',\n",
       "  'model.model.1.submodule.1.submodule.1.submodule.conv',\n",
       "  'model.model.1.submodule.1.submodule.0.conv.unit3.adn.A'],\n",
       " '[32, 128, 32, 32]': ['model.model.1.submodule.1.submodule.1.submodule.conv.unit0.adn.A',\n",
       "  'model.model.1.submodule.1.submodule.1.submodule.conv.unit1.adn.A',\n",
       "  'model.model.1.submodule.1.submodule.1.submodule.conv.unit2.adn.A',\n",
       "  'model.model.1.submodule.1.submodule.1.submodule.conv.unit3.adn.A'],\n",
       " '[32, 192, 32, 32]': ['model.model.1.submodule.1.submodule.2.0.conv'],\n",
       " '[32, 64, 64, 64]': ['model.model.1.submodule.2.0.conv'],\n",
       " '[32, 32, 128, 128]': ['model.model.2.0.conv'],\n",
       " '[32, 4, 256, 256]': ['model.model.2.1.conv']}"
      ]
     },
     "execution_count": 53,
     "metadata": {},
     "output_type": "execute_result"
    }
   ],
   "source": [
    "size_by_layers"
   ]
  },
  {
   "cell_type": "code",
   "execution_count": null,
   "metadata": {},
   "outputs": [],
   "source": []
  }
 ],
 "metadata": {
  "kernelspec": {
   "display_name": "ml",
   "language": "python",
   "name": "python3"
  },
  "language_info": {
   "codemirror_mode": {
    "name": "ipython",
    "version": 3
   },
   "file_extension": ".py",
   "mimetype": "text/x-python",
   "name": "python",
   "nbconvert_exporter": "python",
   "pygments_lexer": "ipython3",
   "version": "3.10.15"
  }
 },
 "nbformat": 4,
 "nbformat_minor": 2
}
