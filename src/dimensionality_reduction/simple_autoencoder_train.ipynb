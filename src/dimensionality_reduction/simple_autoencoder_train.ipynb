{
 "cells": [
  {
   "cell_type": "markdown",
   "metadata": {},
   "source": [
    "## Train experiments with a simple autoencoder as DR"
   ]
  },
  {
   "cell_type": "code",
   "execution_count": 1,
   "metadata": {},
   "outputs": [],
   "source": [
    "%load_ext autoreload\n",
    "%autoreload 2"
   ]
  },
  {
   "cell_type": "markdown",
   "metadata": {},
   "source": [
    "## Initialization"
   ]
  },
  {
   "cell_type": "markdown",
   "metadata": {},
   "source": [
    "Imports"
   ]
  },
  {
   "cell_type": "code",
   "execution_count": 2,
   "metadata": {},
   "outputs": [
    {
     "name": "stdout",
     "output_type": "stream",
     "text": [
      "\n",
      "\n",
      "Please cite the following paper when using nnUNet:\n",
      "\n",
      "Isensee, F., Jaeger, P.F., Kohl, S.A.A. et al. \"nnU-Net: a self-configuring method for deep learning-based biomedical image segmentation.\" Nat Methods (2020). https://doi.org/10.1038/s41592-020-01008-z\n",
      "\n",
      "\n",
      "If you have questions or suggestions, feel free to open an issue at https://github.com/MIC-DKFZ/nnUNet\n",
      "\n",
      "nnUNet_raw_data_base is not defined and nnU-Net can only be used on data for which preprocessed files are already present on your system. nnU-Net cannot be used for experiment planning and preprocessing like this. If this is not intended, please read documentation/setting_up_paths.md for information on how to set this up properly.\n",
      "nnUNet_preprocessed is not defined and nnU-Net can not be used for preprocessing or training. If this is not intended, please read documentation/setting_up_paths.md for information on how to set this up.\n",
      "RESULTS_FOLDER is not defined and nnU-Net cannot be used for training or inference. If this is not intended behavior, please read documentation/setting_up_paths.md for information on how to set this up.\n"
     ]
    }
   ],
   "source": [
    "import sys\n",
    "sys.path.append('../')\n",
    "\n",
    "import torch\n",
    "from torch import nn\n",
    "import matplotlib.pyplot as plt\n",
    "\n",
    "# local imports\n",
    "from setup import setup_device, setup_datamodule, load_model\n",
    "from adapters.main import capture_convolution_layers\n",
    "from dimensionality_reduction.feature_autoencoder import FeatureAutoencoder"
   ]
  },
  {
   "cell_type": "markdown",
   "metadata": {},
   "source": [
    "Set the device globally"
   ]
  },
  {
   "cell_type": "code",
   "execution_count": 3,
   "metadata": {},
   "outputs": [
    {
     "name": "stdout",
     "output_type": "stream",
     "text": [
      "cuda:2 <class 'torch.device'>\n"
     ]
    }
   ],
   "source": [
    "device = setup_device('cuda:2')\n",
    "print(device, type(device))"
   ]
  },
  {
   "cell_type": "markdown",
   "metadata": {},
   "source": [
    "Load a trained model"
   ]
  },
  {
   "cell_type": "code",
   "execution_count": 4,
   "metadata": {},
   "outputs": [
    {
     "name": "stdout",
     "output_type": "stream",
     "text": [
      "Loaded as Lightning module\n"
     ]
    }
   ],
   "source": [
    "model = load_model('../pre-trained/trained_UNets/mnmv2-00-02_22-11-2024-v1.ckpt', device)"
   ]
  },
  {
   "cell_type": "markdown",
   "metadata": {},
   "source": [
    "Initialize mnmv2 dataset module"
   ]
  },
  {
   "cell_type": "code",
   "execution_count": 5,
   "metadata": {},
   "outputs": [],
   "source": [
    "datamodule = setup_datamodule()"
   ]
  },
  {
   "cell_type": "code",
   "execution_count": 6,
   "metadata": {},
   "outputs": [],
   "source": [
    "# no. of epochs for training\n",
    "EPOCHS_COUNT = 50\n",
    "LEARNING_RATE = 1e-3\n",
    "\n",
    "# output dims of dim reduction\n",
    "OUT_DIMS = 3\n",
    "\n",
    "# display results for a selected sample\n",
    "SAMPLE_ID = 5"
   ]
  },
  {
   "cell_type": "code",
   "execution_count": 7,
   "metadata": {},
   "outputs": [],
   "source": [
    "# LAYER_ID = 10\n",
    "# LAYER_ID = 110\n",
    "LAYER_NAME = 'model.model.1.submodule.1.submodule.0.conv'"
   ]
  },
  {
   "cell_type": "code",
   "execution_count": 8,
   "metadata": {},
   "outputs": [
    {
     "name": "stderr",
     "output_type": "stream",
     "text": [
      "\u001b[34m\u001b[1mwandb\u001b[0m: Using wandb-core as the SDK backend. Please refer to https://wandb.me/wandb-core for more information.\n",
      "\u001b[34m\u001b[1mwandb\u001b[0m: Currently logged in as: \u001b[33mvaklr\u001b[0m (\u001b[33mvaklr-bonn\u001b[0m). Use \u001b[1m`wandb login --relogin`\u001b[0m to force relogin\n"
     ]
    },
    {
     "data": {
      "text/html": [
       "Tracking run with wandb version 0.18.5"
      ],
      "text/plain": [
       "<IPython.core.display.HTML object>"
      ]
     },
     "metadata": {},
     "output_type": "display_data"
    },
    {
     "data": {
      "text/html": [
       "Run data is saved locally in <code>/home/keller/repos/MedImSeg-Lab24/src/dimensionality_reduction/wandb/run-20250126_152556-3mibvqa4</code>"
      ],
      "text/plain": [
       "<IPython.core.display.HTML object>"
      ]
     },
     "metadata": {},
     "output_type": "display_data"
    },
    {
     "data": {
      "text/html": [
       "Syncing run <strong><a href='https://wandb.ai/vaklr-bonn/simple-autoencoder-training/runs/3mibvqa4' target=\"_blank\">smart-elevator-2</a></strong> to <a href='https://wandb.ai/vaklr-bonn/simple-autoencoder-training' target=\"_blank\">Weights & Biases</a> (<a href='https://wandb.me/run' target=\"_blank\">docs</a>)<br/>"
      ],
      "text/plain": [
       "<IPython.core.display.HTML object>"
      ]
     },
     "metadata": {},
     "output_type": "display_data"
    },
    {
     "data": {
      "text/html": [
       " View project at <a href='https://wandb.ai/vaklr-bonn/simple-autoencoder-training' target=\"_blank\">https://wandb.ai/vaklr-bonn/simple-autoencoder-training</a>"
      ],
      "text/plain": [
       "<IPython.core.display.HTML object>"
      ]
     },
     "metadata": {},
     "output_type": "display_data"
    },
    {
     "data": {
      "text/html": [
       " View run at <a href='https://wandb.ai/vaklr-bonn/simple-autoencoder-training/runs/3mibvqa4' target=\"_blank\">https://wandb.ai/vaklr-bonn/simple-autoencoder-training/runs/3mibvqa4</a>"
      ],
      "text/plain": [
       "<IPython.core.display.HTML object>"
      ]
     },
     "metadata": {},
     "output_type": "display_data"
    },
    {
     "data": {
      "text/html": [
       "<button onClick=\"this.nextSibling.style.display='block';this.style.display='none';\">Display W&B run</button><iframe src='https://wandb.ai/vaklr-bonn/simple-autoencoder-training/runs/3mibvqa4?jupyter=true' style='border:none;width:100%;height:420px;display:none;'></iframe>"
      ],
      "text/plain": [
       "<wandb.sdk.wandb_run.Run at 0x7f5de059f340>"
      ]
     },
     "execution_count": 8,
     "metadata": {},
     "output_type": "execute_result"
    }
   ],
   "source": [
    "import wandb\n",
    "\n",
    "BATCH_SIZE = 32\n",
    "# Initialize wandb\n",
    "wandb.init(project=\"simple-autoencoder-training\", config={\"learning_rate\": LEARNING_RATE, \"epochs\": EPOCHS_COUNT, \"batch_size\": BATCH_SIZE})"
   ]
  },
  {
   "cell_type": "markdown",
   "metadata": {},
   "source": [
    "### Preparation"
   ]
  },
  {
   "cell_type": "markdown",
   "metadata": {},
   "source": [
    "Take the first batch from the datamodule"
   ]
  },
  {
   "cell_type": "code",
   "execution_count": 9,
   "metadata": {},
   "outputs": [
    {
     "data": {
      "text/plain": [
       "torch.Size([32, 1, 256, 256])"
      ]
     },
     "execution_count": 9,
     "metadata": {},
     "output_type": "execute_result"
    }
   ],
   "source": [
    "data_batch = next(iter(datamodule.val_dataloader()))\n",
    "\n",
    "data_sample = data_batch['input']\n",
    "data_sample.size() # [batch size, channels, width, hegiht]"
   ]
  },
  {
   "cell_type": "markdown",
   "metadata": {},
   "source": [
    "Use hooks to capture hidden layer activations in the batch"
   ]
  },
  {
   "cell_type": "code",
   "execution_count": 10,
   "metadata": {},
   "outputs": [],
   "source": [
    "wrapper, layer_names = capture_convolution_layers(model, device, data_sample)"
   ]
  },
  {
   "cell_type": "code",
   "execution_count": 11,
   "metadata": {},
   "outputs": [
    {
     "name": "stdout",
     "output_type": "stream",
     "text": [
      "shape of the selected layer ([COUNT, C, H, W]): torch.Size([32, 32, 64, 64])\n"
     ]
    }
   ],
   "source": [
    "# layer_samples = wrapper.layer_activations[layer_names[LAYER_ID]]\n",
    "layer_samples = wrapper.layer_activations[LAYER_NAME]\n",
    "\n",
    "print(f\"shape of the selected layer ([COUNT, C, H, W]): {layer_samples.size()}\")"
   ]
  },
  {
   "cell_type": "code",
   "execution_count": 12,
   "metadata": {},
   "outputs": [],
   "source": [
    "BATCH_COUNT, C, H, W = layer_samples.detach().numpy().shape"
   ]
  },
  {
   "cell_type": "markdown",
   "metadata": {},
   "source": [
    "## Experiments (single & batch)"
   ]
  },
  {
   "cell_type": "markdown",
   "metadata": {},
   "source": [
    "Define a train function"
   ]
  },
  {
   "cell_type": "code",
   "execution_count": 19,
   "metadata": {},
   "outputs": [],
   "source": [
    "def train_batch(autoencoder, num_epochs: int, samples, logger = None):\n",
    "    criterion = nn.MSELoss()\n",
    "    optimizer = torch.optim.Adam(autoencoder.parameters(), lr=LEARNING_RATE)\n",
    "\n",
    "    for epoch in range(num_epochs):\n",
    "        epoch_loss = .0\n",
    "        optimizer.zero_grad()\n",
    "        \n",
    "        for image in samples:\n",
    "            _latent, reconstructed = autoencoder(image)\n",
    "            loss = criterion(reconstructed, image)\n",
    "            epoch_loss += loss\n",
    "\n",
    "        if logger:\n",
    "                logger({ \"epoch_loss\": epoch_loss/len(samples) })\n",
    "\n",
    "        print(f\"Epoch [{epoch+1}/{num_epochs}], Loss: {epoch_loss/len(samples):.4f}\")\n",
    "        epoch_loss.backward()\n",
    "        optimizer.step()\n",
    "\n",
    "    return autoencoder\n"
   ]
  },
  {
   "cell_type": "markdown",
   "metadata": {},
   "source": [
    "Define visualization functions:"
   ]
  },
  {
   "cell_type": "code",
   "execution_count": 14,
   "metadata": {},
   "outputs": [],
   "source": [
    "def visualize(image):\n",
    "    if image.shape[0] > 3:  # If more than 3 channels, average channels\n",
    "        # return image.mean(axis=0)\n",
    "        return image[0]\n",
    "    else:  # If 3 or fewer channels, just transpose to match image format\n",
    "        return image.transpose(1, 2, 0)  # [C, H, W] -> [H, W, C]"
   ]
  },
  {
   "cell_type": "code",
   "execution_count": 15,
   "metadata": {},
   "outputs": [],
   "source": [
    "def plot_results(orig, reconstr, latent):\n",
    "    # Create a side-by-side plot\n",
    "    fig, axes = plt.subplots(1, 3, figsize=(15, 5))\n",
    "\n",
    "    # Original Image\n",
    "    axes[0].imshow(visualize(orig), cmap='gray')\n",
    "    axes[0].set_title(\"Original Image\")\n",
    "    axes[0].axis(\"off\")\n",
    "\n",
    "    # Reconstructed Image\n",
    "    axes[1].imshow(visualize(reconstr), cmap='gray')\n",
    "    axes[1].set_title(\"Reconstructed Image\")\n",
    "    axes[1].axis(\"off\")\n",
    "\n",
    "    # Latent Representation (3 channels, like RGB)\n",
    "    axes[2].imshow(latent.transpose(1, 2, 0))  # Transpose for [H, W, C]\n",
    "    axes[2].set_title(\"Latent Representation\")\n",
    "    axes[2].axis(\"off\")\n",
    "\n",
    "    plt.tight_layout()\n",
    "    plt.show()"
   ]
  },
  {
   "cell_type": "code",
   "execution_count": 16,
   "metadata": {},
   "outputs": [
    {
     "name": "stdout",
     "output_type": "stream",
     "text": [
      "torch.Size([1, 256, 256])\n"
     ]
    },
    {
     "data": {
      "text/plain": [
       "(np.float64(-0.5), np.float64(255.5), np.float64(255.5), np.float64(-0.5))"
      ]
     },
     "execution_count": 16,
     "metadata": {},
     "output_type": "execute_result"
    },
    {
     "data": {
      "image/png": "[encoded data removed]",
      "text/plain": [
       "<Figure size 640x480 with 1 Axes>"
      ]
     },
     "metadata": {},
     "output_type": "display_data"
    }
   ],
   "source": [
    "data_sample_target = data_batch['target'][SAMPLE_ID]\n",
    "print(data_sample_target.size())\n",
    "\n",
    "plt.imshow(data_sample_target.detach().numpy().transpose(1, 2, 0))\n",
    "plt.title(f'Target image for the sample id={SAMPLE_ID}')\n",
    "plt.axis(\"off\")"
   ]
  },
  {
   "cell_type": "markdown",
   "metadata": {},
   "source": [
    "### Single Layer Training"
   ]
  },
  {
   "cell_type": "markdown",
   "metadata": {},
   "source": [
    "Create an instance of Autoencoder for training"
   ]
  },
  {
   "cell_type": "code",
   "execution_count": 17,
   "metadata": {},
   "outputs": [
    {
     "name": "stdout",
     "output_type": "stream",
     "text": [
      "defined an autoencoder with input channels=32 and out channels=3\n"
     ]
    }
   ],
   "source": [
    "BATCH_COUNT, C, H, W = layer_samples.detach().numpy().shape\n",
    "\n",
    "single_autoencoder = FeatureAutoencoder(C, OUT_DIMS)"
   ]
  },
  {
   "cell_type": "code",
   "execution_count": 20,
   "metadata": {},
   "outputs": [
    {
     "name": "stdout",
     "output_type": "stream",
     "text": [
      "Epoch [1/50], Loss: 0.5899\n",
      "Epoch [2/50], Loss: 0.5728\n",
      "Epoch [3/50], Loss: 0.5474\n",
      "Epoch [4/50], Loss: 0.5021\n",
      "Epoch [5/50], Loss: 0.4439\n",
      "Epoch [6/50], Loss: 0.4573\n",
      "Epoch [7/50], Loss: 0.4182\n",
      "Epoch [8/50], Loss: 0.3928\n",
      "Epoch [9/50], Loss: 0.3921\n",
      "Epoch [10/50], Loss: 0.3921\n",
      "Epoch [11/50], Loss: 0.3861\n",
      "Epoch [12/50], Loss: 0.3785\n",
      "Epoch [13/50], Loss: 0.3758\n",
      "Epoch [14/50], Loss: 0.3734\n",
      "Epoch [15/50], Loss: 0.3643\n",
      "Epoch [16/50], Loss: 0.3549\n",
      "Epoch [17/50], Loss: 0.3493\n",
      "Epoch [18/50], Loss: 0.3401\n",
      "Epoch [19/50], Loss: 0.3279\n",
      "Epoch [20/50], Loss: 0.3177\n",
      "Epoch [21/50], Loss: 0.3083\n",
      "Epoch [22/50], Loss: 0.2965\n",
      "Epoch [23/50], Loss: 0.2861\n",
      "Epoch [24/50], Loss: 0.2763\n",
      "Epoch [25/50], Loss: 0.2671\n",
      "Epoch [26/50], Loss: 0.2620\n",
      "Epoch [27/50], Loss: 0.2558\n",
      "Epoch [28/50], Loss: 0.2497\n",
      "Epoch [29/50], Loss: 0.2435\n",
      "Epoch [30/50], Loss: 0.2361\n",
      "Epoch [31/50], Loss: 0.2314\n",
      "Epoch [32/50], Loss: 0.2267\n",
      "Epoch [33/50], Loss: 0.2225\n",
      "Epoch [34/50], Loss: 0.2189\n",
      "Epoch [35/50], Loss: 0.2147\n",
      "Epoch [36/50], Loss: 0.2107\n",
      "Epoch [37/50], Loss: 0.2058\n",
      "Epoch [38/50], Loss: 0.2008\n",
      "Epoch [39/50], Loss: 0.1960\n",
      "Epoch [40/50], Loss: 0.1910\n",
      "Epoch [41/50], Loss: 0.1865\n",
      "Epoch [42/50], Loss: 0.1818\n",
      "Epoch [43/50], Loss: 0.1774\n",
      "Epoch [44/50], Loss: 0.1729\n",
      "Epoch [45/50], Loss: 0.1687\n",
      "Epoch [46/50], Loss: 0.1643\n",
      "Epoch [47/50], Loss: 0.1598\n",
      "Epoch [48/50], Loss: 0.1553\n",
      "Epoch [49/50], Loss: 0.1509\n",
      "Epoch [50/50], Loss: 0.1465\n"
     ]
    }
   ],
   "source": [
    "single_autoencoder = train_batch(single_autoencoder, EPOCHS_COUNT, [layer_samples[SAMPLE_ID]])"
   ]
  },
  {
   "cell_type": "markdown",
   "metadata": {},
   "source": [
    "Show the results"
   ]
  },
  {
   "cell_type": "code",
   "execution_count": 21,
   "metadata": {},
   "outputs": [],
   "source": [
    "selected_sample = layer_samples[SAMPLE_ID]\n",
    "latent, reconstructed = single_autoencoder(selected_sample)"
   ]
  },
  {
   "cell_type": "code",
   "execution_count": 22,
   "metadata": {},
   "outputs": [],
   "source": [
    "original_np = selected_sample.detach().numpy()\n",
    "latent_np = latent.detach().numpy()\n",
    "reconstructed_np = reconstructed.detach().numpy()"
   ]
  },
  {
   "cell_type": "code",
   "execution_count": 23,
   "metadata": {},
   "outputs": [
    {
     "name": "stderr",
     "output_type": "stream",
     "text": [
      "Clipping input data to the valid range for imshow with RGB data ([0..1] for floats or [0..255] for integers). Got range [-3.5712996..3.847082].\n"
     ]
    },
    {
     "data": {
      "image/png": "[encoded data removed]",
      "text/plain": [
       "<Figure size 1500x500 with 3 Axes>"
      ]
     },
     "metadata": {},
     "output_type": "display_data"
    }
   ],
   "source": [
    "plot_results(original_np, reconstructed_np, latent_np)"
   ]
  },
  {
   "cell_type": "code",
   "execution_count": 24,
   "metadata": {},
   "outputs": [
    {
     "name": "stdout",
     "output_type": "stream",
     "text": [
      "MSE Error: 0.14254271984100342\n"
     ]
    }
   ],
   "source": [
    "import numpy as np\n",
    "\n",
    "mse_error = np.mean((original_np - reconstructed_np) ** 2)\n",
    "\n",
    "print(f\"MSE Error: {mse_error.item()}\")\n"
   ]
  },
  {
   "cell_type": "markdown",
   "metadata": {},
   "source": [
    "### Single Batch Training"
   ]
  },
  {
   "cell_type": "code",
   "execution_count": 25,
   "metadata": {},
   "outputs": [
    {
     "name": "stdout",
     "output_type": "stream",
     "text": [
      "defined an autoencoder with input channels=32 and out channels=3\n"
     ]
    }
   ],
   "source": [
    "BATCH_COUNT, C, H, W = layer_samples.detach().numpy().shape\n",
    "\n",
    "autoencoder_batch = FeatureAutoencoder(C, OUT_DIMS)"
   ]
  },
  {
   "cell_type": "code",
   "execution_count": 26,
   "metadata": {},
   "outputs": [
    {
     "name": "stdout",
     "output_type": "stream",
     "text": [
      "Epoch [1/50], Loss: 0.5962\n",
      "Epoch [2/50], Loss: 0.5757\n",
      "Epoch [3/50], Loss: 0.5508\n",
      "Epoch [4/50], Loss: 0.5138\n",
      "Epoch [5/50], Loss: 0.4638\n",
      "Epoch [6/50], Loss: 0.4355\n",
      "Epoch [7/50], Loss: 0.4328\n",
      "Epoch [8/50], Loss: 0.3965\n",
      "Epoch [9/50], Loss: 0.3801\n",
      "Epoch [10/50], Loss: 0.3760\n",
      "Epoch [11/50], Loss: 0.3722\n",
      "Epoch [12/50], Loss: 0.3664\n",
      "Epoch [13/50], Loss: 0.3607\n",
      "Epoch [14/50], Loss: 0.3570\n",
      "Epoch [15/50], Loss: 0.3564\n",
      "Epoch [16/50], Loss: 0.3531\n",
      "Epoch [17/50], Loss: 0.3465\n",
      "Epoch [18/50], Loss: 0.3424\n",
      "Epoch [19/50], Loss: 0.3408\n",
      "Epoch [20/50], Loss: 0.3390\n",
      "Epoch [21/50], Loss: 0.3367\n",
      "Epoch [22/50], Loss: 0.3345\n",
      "Epoch [23/50], Loss: 0.3327\n",
      "Epoch [24/50], Loss: 0.3305\n",
      "Epoch [25/50], Loss: 0.3272\n",
      "Epoch [26/50], Loss: 0.3241\n",
      "Epoch [27/50], Loss: 0.3215\n",
      "Epoch [28/50], Loss: 0.3188\n",
      "Epoch [29/50], Loss: 0.3154\n",
      "Epoch [30/50], Loss: 0.3118\n",
      "Epoch [31/50], Loss: 0.3083\n",
      "Epoch [32/50], Loss: 0.3042\n",
      "Epoch [33/50], Loss: 0.2996\n",
      "Epoch [34/50], Loss: 0.2954\n",
      "Epoch [35/50], Loss: 0.2911\n",
      "Epoch [36/50], Loss: 0.2864\n",
      "Epoch [37/50], Loss: 0.2818\n",
      "Epoch [38/50], Loss: 0.2768\n",
      "Epoch [39/50], Loss: 0.2714\n",
      "Epoch [40/50], Loss: 0.2665\n",
      "Epoch [41/50], Loss: 0.2613\n",
      "Epoch [42/50], Loss: 0.2562\n",
      "Epoch [43/50], Loss: 0.2508\n",
      "Epoch [44/50], Loss: 0.2450\n",
      "Epoch [45/50], Loss: 0.2388\n",
      "Epoch [46/50], Loss: 0.2327\n",
      "Epoch [47/50], Loss: 0.2271\n",
      "Epoch [48/50], Loss: 0.2230\n",
      "Epoch [49/50], Loss: 0.2178\n",
      "Epoch [50/50], Loss: 0.2098\n"
     ]
    }
   ],
   "source": [
    "autoencoder_batch = train_batch(autoencoder_batch, EPOCHS_COUNT, layer_samples)"
   ]
  },
  {
   "cell_type": "markdown",
   "metadata": {},
   "source": [
    "Show the results"
   ]
  },
  {
   "cell_type": "code",
   "execution_count": 27,
   "metadata": {},
   "outputs": [],
   "source": [
    "selected_sample = layer_samples[SAMPLE_ID]\n",
    "latent_batch, reconstructed_batch = autoencoder_batch(selected_sample)"
   ]
  },
  {
   "cell_type": "code",
   "execution_count": 28,
   "metadata": {},
   "outputs": [],
   "source": [
    "original_batch_np = selected_sample.detach().numpy()\n",
    "latent_batch_np = latent_batch.detach().numpy()\n",
    "reconstructed_batch_np = reconstructed_batch.detach().numpy()"
   ]
  },
  {
   "cell_type": "code",
   "execution_count": 29,
   "metadata": {},
   "outputs": [
    {
     "name": "stderr",
     "output_type": "stream",
     "text": [
      "Clipping input data to the valid range for imshow with RGB data ([0..1] for floats or [0..255] for integers). Got range [-4.5814223..3.927678].\n"
     ]
    },
    {
     "data": {
      "image/png": "[encoded data removed]",
      "text/plain": [
       "<Figure size 1500x500 with 3 Axes>"
      ]
     },
     "metadata": {},
     "output_type": "display_data"
    }
   ],
   "source": [
    "plot_results(original_batch_np, reconstructed_batch_np, latent_batch_np)"
   ]
  },
  {
   "cell_type": "code",
   "execution_count": 31,
   "metadata": {},
   "outputs": [
    {
     "name": "stdout",
     "output_type": "stream",
     "text": [
      "MSE Error: 0.1948249638080597\n"
     ]
    }
   ],
   "source": [
    "mse_error = np.mean((original_np - reconstructed_batch_np) ** 2)\n",
    "\n",
    "print(f\"MSE Error: {mse_error.item()}\")"
   ]
  },
  {
   "cell_type": "markdown",
   "metadata": {},
   "source": [
    "## Whole Dataset Training"
   ]
  },
  {
   "cell_type": "markdown",
   "metadata": {},
   "source": [
    "### Train new autoencoded"
   ]
  },
  {
   "cell_type": "code",
   "execution_count": 32,
   "metadata": {},
   "outputs": [],
   "source": [
    "from dimensionality_reduction.train import train_dr"
   ]
  },
  {
   "cell_type": "code",
   "execution_count": 33,
   "metadata": {},
   "outputs": [
    {
     "name": "stdout",
     "output_type": "stream",
     "text": [
      "defined an autoencoder with input channels=32 and out channels=3\n"
     ]
    }
   ],
   "source": [
    "autoencoder_dataset = FeatureAutoencoder(C, OUT_DIMS)"
   ]
  },
  {
   "cell_type": "code",
   "execution_count": 34,
   "metadata": {},
   "outputs": [],
   "source": [
    "# Track model parameters\n",
    "wandb.watch(autoencoder_dataset, log=\"all\", log_freq=10)"
   ]
  },
  {
   "cell_type": "code",
   "execution_count": 37,
   "metadata": {},
   "outputs": [
    {
     "name": "stdout",
     "output_type": "stream",
     "text": [
      "Epoch [1/50], Loss: 9.1481\n",
      "Epoch [2/50], Loss: 7.0541\n",
      "Epoch [3/50], Loss: 5.7120\n",
      "Epoch [4/50], Loss: 4.2062\n",
      "Epoch [5/50], Loss: 3.0434\n",
      "Epoch [6/50], Loss: 2.3830\n",
      "Epoch [7/50], Loss: 1.9952\n",
      "Epoch [8/50], Loss: 1.7465\n",
      "Epoch [9/50], Loss: 1.5674\n",
      "Epoch [10/50], Loss: 1.4397\n",
      "Epoch [11/50], Loss: 1.3943\n",
      "Epoch [12/50], Loss: 1.2723\n",
      "Epoch [13/50], Loss: 1.2007\n",
      "Epoch [14/50], Loss: 1.1545\n",
      "Epoch [15/50], Loss: 1.1166\n",
      "Epoch [16/50], Loss: 1.0767\n",
      "Epoch [17/50], Loss: 1.0434\n",
      "Epoch [18/50], Loss: 1.0151\n",
      "Epoch [19/50], Loss: 0.9921\n",
      "Epoch [20/50], Loss: 0.9699\n",
      "Epoch [21/50], Loss: 0.9417\n",
      "Epoch [22/50], Loss: 0.9193\n",
      "Epoch [23/50], Loss: 0.9131\n",
      "Epoch [24/50], Loss: 0.9100\n",
      "Epoch [25/50], Loss: 0.8829\n",
      "Epoch [26/50], Loss: 0.8623\n",
      "Epoch [27/50], Loss: 0.8486\n",
      "Epoch [28/50], Loss: 0.8435\n",
      "Epoch [29/50], Loss: 0.8315\n",
      "Epoch [30/50], Loss: 0.8187\n",
      "Epoch [31/50], Loss: 0.8168\n",
      "Epoch [32/50], Loss: 0.8113\n",
      "Epoch [33/50], Loss: 0.7929\n",
      "Epoch [34/50], Loss: 0.7866\n",
      "Epoch [35/50], Loss: 0.7786\n",
      "Epoch [36/50], Loss: 0.7700\n",
      "Epoch [37/50], Loss: 0.7656\n",
      "Epoch [38/50], Loss: 0.7744\n",
      "Epoch [39/50], Loss: 0.7498\n",
      "Epoch [40/50], Loss: 0.7430\n",
      "Epoch [41/50], Loss: 0.7393\n",
      "Epoch [42/50], Loss: 0.7415\n",
      "Epoch [43/50], Loss: 0.7341\n",
      "Epoch [44/50], Loss: 0.7224\n",
      "Epoch [45/50], Loss: 0.7202\n",
      "Epoch [46/50], Loss: 0.7372\n",
      "Epoch [47/50], Loss: 0.7160\n",
      "Epoch [48/50], Loss: 0.7040\n",
      "Epoch [49/50], Loss: 0.6983\n",
      "Epoch [50/50], Loss: 0.6966\n"
     ]
    }
   ],
   "source": [
    "train_dr(autoencoder=autoencoder_dataset, datamodule=datamodule, model=model, device=device,\n",
    "                       logger=wandb.log, layer_names=[LAYER_NAME], num_epochs=EPOCHS_COUNT)"
   ]
  },
  {
   "cell_type": "code",
   "execution_count": 38,
   "metadata": {},
   "outputs": [
    {
     "data": {
      "text/html": [
       "<style>\n",
       "    table.wandb td:nth-child(1) { padding: 0 10px; text-align: left ; width: auto;} td:nth-child(2) {text-align: left ; width: 100%}\n",
       "    .wandb-row { display: flex; flex-direction: row; flex-wrap: wrap; justify-content: flex-start; width: 100% }\n",
       "    .wandb-col { display: flex; flex-direction: column; flex-basis: 100%; flex: 1; padding: 10px; }\n",
       "    </style>\n",
       "<div class=\"wandb-row\"><div class=\"wandb-col\"><h3>Run history:</h3><br/><table class=\"wandb\"><tr><td>epoch_loss</td><td>█▆▅▄▃▂▂▂▂▂▁▁▁▁▁▁▁▁▁▁▁▁▁▁▁▁▁▁▁▁▁▁▁▁▁▁▁▁▁▁</td></tr><tr><td>train_batch_loss</td><td>█▇▇▅▃▂▂▂▂▂▂▂▁▂▂▁▁▁▁▁▁▁▁▁▁▁▁▁▁▁▁▁▁▁▁▁▁▁▁▁</td></tr></table><br/></div><div class=\"wandb-col\"><h3>Run summary:</h3><br/><table class=\"wandb\"><tr><td>epoch_loss</td><td>0.69662</td></tr><tr><td>train_batch_loss</td><td>0.88647</td></tr></table><br/></div></div>"
      ],
      "text/plain": [
       "<IPython.core.display.HTML object>"
      ]
     },
     "metadata": {},
     "output_type": "display_data"
    },
    {
     "data": {
      "text/html": [
       " View run <strong style=\"color:#cdcd00\">smart-elevator-2</strong> at: <a href='https://wandb.ai/vaklr-bonn/simple-autoencoder-training/runs/3mibvqa4' target=\"_blank\">https://wandb.ai/vaklr-bonn/simple-autoencoder-training/runs/3mibvqa4</a><br/> View project at: <a href='https://wandb.ai/vaklr-bonn/simple-autoencoder-training' target=\"_blank\">https://wandb.ai/vaklr-bonn/simple-autoencoder-training</a><br/>Synced 4 W&B file(s), 0 media file(s), 3 artifact file(s) and 0 other file(s)"
      ],
      "text/plain": [
       "<IPython.core.display.HTML object>"
      ]
     },
     "metadata": {},
     "output_type": "display_data"
    },
    {
     "data": {
      "text/html": [
       "Find logs at: <code>./wandb/run-20250126_152556-3mibvqa4/logs</code>"
      ],
      "text/plain": [
       "<IPython.core.display.HTML object>"
      ]
     },
     "metadata": {},
     "output_type": "display_data"
    }
   ],
   "source": [
    "wandb.finish()"
   ]
  },
  {
   "cell_type": "code",
   "execution_count": 39,
   "metadata": {},
   "outputs": [],
   "source": [
    "selected_sample = layer_samples[SAMPLE_ID]\n",
    "original_np = selected_sample.detach().numpy()"
   ]
  },
  {
   "cell_type": "code",
   "execution_count": 43,
   "metadata": {},
   "outputs": [],
   "source": [
    "latent, reconstructed = autoencoder_dataset(selected_sample)\n",
    "latent_np = latent.detach().numpy()\n",
    "reconstructed_np = reconstructed.detach().numpy()"
   ]
  },
  {
   "cell_type": "code",
   "execution_count": 44,
   "metadata": {},
   "outputs": [
    {
     "name": "stderr",
     "output_type": "stream",
     "text": [
      "Clipping input data to the valid range for imshow with RGB data ([0..1] for floats or [0..255] for integers). Got range [-7.4094696..4.135443].\n"
     ]
    },
    {
     "data": {
      "image/png": "[encoded data removed]",
      "text/plain": [
       "<Figure size 1500x500 with 3 Axes>"
      ]
     },
     "metadata": {},
     "output_type": "display_data"
    }
   ],
   "source": [
    "plot_results(original_np, reconstructed_np, latent_np)"
   ]
  },
  {
   "cell_type": "code",
   "execution_count": 45,
   "metadata": {},
   "outputs": [
    {
     "name": "stdout",
     "output_type": "stream",
     "text": [
      "MSE Error: 0.03969573974609375\n"
     ]
    }
   ],
   "source": [
    "mse_error = np.mean((original_np - reconstructed_np) ** 2)\n",
    "\n",
    "print(f\"MSE Error: {mse_error.item()}\")"
   ]
  },
  {
   "cell_type": "markdown",
   "metadata": {},
   "source": [
    "### Save  & load the autoencoder"
   ]
  },
  {
   "cell_type": "code",
   "execution_count": 46,
   "metadata": {},
   "outputs": [
    {
     "name": "stdout",
     "output_type": "stream",
     "text": [
      "Model saved to ./simple_autoencoders/simple_encoder_e50.pth\n"
     ]
    }
   ],
   "source": [
    "from model_saver import ModelSaver\n",
    "\n",
    "FILE_NAME = 'simple_encoder_e50'\n",
    "\n",
    "saver = ModelSaver('./simple_autoencoders')\n",
    "\n",
    "saver.save_model_config(autoencoder_dataset, file_name=FILE_NAME)"
   ]
  },
  {
   "cell_type": "markdown",
   "metadata": {},
   "source": [
    "Load saved autoencoder"
   ]
  },
  {
   "cell_type": "code",
   "execution_count": 38,
   "metadata": {},
   "outputs": [
    {
     "name": "stdout",
     "output_type": "stream",
     "text": [
      "defined an autoencoder with input channels=16 and out channels=3\n",
      "Autoencoder loaded successfully\n"
     ]
    },
    {
     "name": "stderr",
     "output_type": "stream",
     "text": [
      "/home/keller/repos/MedImSeg-Lab24/src/dimensionality_reduction/../dimensionality_reduction/save_utils.py:19: FutureWarning: You are using `torch.load` with `weights_only=False` (the current default value), which uses the default pickle module implicitly. It is possible to construct malicious pickle data which will execute arbitrary code during unpickling (See https://github.com/pytorch/pytorch/blob/main/SECURITY.md#untrusted-models for more details). In a future release, the default value for `weights_only` will be flipped to `True`. This limits the functions that could be executed during unpickling. Arbitrary objects will no longer be allowed to be loaded via this mode unless they are explicitly allowlisted by the user via `torch.serialization.add_safe_globals`. We recommend you start setting `weights_only=True` for any use case where you don't have full control of the loaded file. Please open an issue on GitHub for any issues related to this experimental feature.\n",
      "  autoencoder.load_state_dict(torch.load(autoencoder_save_path))\n"
     ]
    }
   ],
   "source": [
    "# Initialize the same autoencoder structure\n",
    "autoencoder_saved = FeatureAutoencoder(C, OUT_DIMS)\n",
    "saver.load_autoencoder_config(autoencoder_saved, FILE_NAME)"
   ]
  }
 ],
 "metadata": {
  "kernelspec": {
   "display_name": "ml",
   "language": "python",
   "name": "python3"
  },
  "language_info": {
   "codemirror_mode": {
    "name": "ipython",
    "version": 3
   },
   "file_extension": ".py",
   "mimetype": "text/x-python",
   "name": "python",
   "nbconvert_exporter": "python",
   "pygments_lexer": "ipython3",
   "version": "3.10.15"
  }
 },
 "nbformat": 4,
 "nbformat_minor": 2
}
