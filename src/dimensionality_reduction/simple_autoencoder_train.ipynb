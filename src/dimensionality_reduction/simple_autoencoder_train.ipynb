{
 "cells": [
  {
   "cell_type": "markdown",
   "metadata": {},
   "source": [
    "## Train experiments with a simple autoencoder as DR"
   ]
  },
  {
   "cell_type": "code",
   "execution_count": 1,
   "metadata": {},
   "outputs": [],
   "source": [
    "%load_ext autoreload\n",
    "%autoreload 2"
   ]
  },
  {
   "cell_type": "markdown",
   "metadata": {},
   "source": [
    "## Initialization"
   ]
  },
  {
   "cell_type": "markdown",
   "metadata": {},
   "source": [
    "Imports"
   ]
  },
  {
   "cell_type": "code",
   "execution_count": 2,
   "metadata": {},
   "outputs": [
    {
     "name": "stdout",
     "output_type": "stream",
     "text": [
      "\n",
      "\n",
      "Please cite the following paper when using nnUNet:\n",
      "\n",
      "Isensee, F., Jaeger, P.F., Kohl, S.A.A. et al. \"nnU-Net: a self-configuring method for deep learning-based biomedical image segmentation.\" Nat Methods (2020). https://doi.org/10.1038/s41592-020-01008-z\n",
      "\n",
      "\n",
      "If you have questions or suggestions, feel free to open an issue at https://github.com/MIC-DKFZ/nnUNet\n",
      "\n",
      "nnUNet_raw_data_base is not defined and nnU-Net can only be used on data for which preprocessed files are already present on your system. nnU-Net cannot be used for experiment planning and preprocessing like this. If this is not intended, please read documentation/setting_up_paths.md for information on how to set this up properly.\n",
      "nnUNet_preprocessed is not defined and nnU-Net can not be used for preprocessing or training. If this is not intended, please read documentation/setting_up_paths.md for information on how to set this up.\n",
      "RESULTS_FOLDER is not defined and nnU-Net cannot be used for training or inference. If this is not intended behavior, please read documentation/setting_up_paths.md for information on how to set this up.\n"
     ]
    }
   ],
   "source": [
    "import sys\n",
    "sys.path.append('../')\n",
    "\n",
    "import torch\n",
    "from torch import nn\n",
    "import matplotlib.pyplot as plt\n",
    "\n",
    "# local imports\n",
    "from setup import setup_device, setup_datamodule, load_model\n",
    "from adapters.main import capture_convolution_layers\n",
    "from dimensionality_reduction.feature_autoencoder import FeatureAutoencoder"
   ]
  },
  {
   "cell_type": "markdown",
   "metadata": {},
   "source": [
    "Set the device globally"
   ]
  },
  {
   "cell_type": "code",
   "execution_count": 3,
   "metadata": {},
   "outputs": [
    {
     "name": "stdout",
     "output_type": "stream",
     "text": [
      "cuda:2 <class 'torch.device'>\n"
     ]
    }
   ],
   "source": [
    "device = setup_device('cuda:2')\n",
    "print(device, type(device))"
   ]
  },
  {
   "cell_type": "markdown",
   "metadata": {},
   "source": [
    "Load a trained model"
   ]
  },
  {
   "cell_type": "code",
   "execution_count": 4,
   "metadata": {},
   "outputs": [
    {
     "name": "stdout",
     "output_type": "stream",
     "text": [
      "Loaded as Lightning module\n"
     ]
    }
   ],
   "source": [
    "model = load_model('../pre-trained/trained_UNets/mnmv2-00-02_22-11-2024-v1.ckpt', device)"
   ]
  },
  {
   "cell_type": "markdown",
   "metadata": {},
   "source": [
    "Initialize mnmv2 dataset module"
   ]
  },
  {
   "cell_type": "code",
   "execution_count": 5,
   "metadata": {},
   "outputs": [],
   "source": [
    "datamodule = setup_datamodule()"
   ]
  },
  {
   "cell_type": "code",
   "execution_count": 6,
   "metadata": {},
   "outputs": [],
   "source": [
    "# no. of epochs for training\n",
    "EPOCHS_COUNT = 30\n",
    "LEARNING_RATE = 1e-3\n",
    "\n",
    "# output dims of dim reduction\n",
    "OUT_DIMS = 3\n",
    "\n",
    "# display results for a selected sample\n",
    "SAMPLE_ID = 5"
   ]
  },
  {
   "cell_type": "code",
   "execution_count": 7,
   "metadata": {},
   "outputs": [],
   "source": [
    "# LAYER_ID = 10\n",
    "# LAYER_ID = 110\n",
    "LAYER_NAME = 'model.model.1.submodule.0.conv.unit0.adn.A'"
   ]
  },
  {
   "cell_type": "code",
   "execution_count": 8,
   "metadata": {},
   "outputs": [
    {
     "name": "stderr",
     "output_type": "stream",
     "text": [
      "\u001b[34m\u001b[1mwandb\u001b[0m: Using wandb-core as the SDK backend. Please refer to https://wandb.me/wandb-core for more information.\n",
      "\u001b[34m\u001b[1mwandb\u001b[0m: Currently logged in as: \u001b[33mvaklr\u001b[0m (\u001b[33mvaklr-bonn\u001b[0m). Use \u001b[1m`wandb login --relogin`\u001b[0m to force relogin\n"
     ]
    },
    {
     "data": {
      "text/html": [
       "Tracking run with wandb version 0.18.5"
      ],
      "text/plain": [
       "<IPython.core.display.HTML object>"
      ]
     },
     "metadata": {},
     "output_type": "display_data"
    },
    {
     "data": {
      "text/html": [
       "Run data is saved locally in <code>/home/keller/repos/MedImSeg-Lab24/src/dimensionality_reduction/wandb/run-20250304_213100-gpzehiov</code>"
      ],
      "text/plain": [
       "<IPython.core.display.HTML object>"
      ]
     },
     "metadata": {},
     "output_type": "display_data"
    },
    {
     "data": {
      "text/html": [
       "Syncing run <strong><a href='https://wandb.ai/vaklr-bonn/simple-autoencoder-training/runs/gpzehiov' target=\"_blank\">likely-lion-6</a></strong> to <a href='https://wandb.ai/vaklr-bonn/simple-autoencoder-training' target=\"_blank\">Weights & Biases</a> (<a href='https://wandb.me/run' target=\"_blank\">docs</a>)<br/>"
      ],
      "text/plain": [
       "<IPython.core.display.HTML object>"
      ]
     },
     "metadata": {},
     "output_type": "display_data"
    },
    {
     "data": {
      "text/html": [
       " View project at <a href='https://wandb.ai/vaklr-bonn/simple-autoencoder-training' target=\"_blank\">https://wandb.ai/vaklr-bonn/simple-autoencoder-training</a>"
      ],
      "text/plain": [
       "<IPython.core.display.HTML object>"
      ]
     },
     "metadata": {},
     "output_type": "display_data"
    },
    {
     "data": {
      "text/html": [
       " View run at <a href='https://wandb.ai/vaklr-bonn/simple-autoencoder-training/runs/gpzehiov' target=\"_blank\">https://wandb.ai/vaklr-bonn/simple-autoencoder-training/runs/gpzehiov</a>"
      ],
      "text/plain": [
       "<IPython.core.display.HTML object>"
      ]
     },
     "metadata": {},
     "output_type": "display_data"
    },
    {
     "data": {
      "text/html": [
       "<button onClick=\"this.nextSibling.style.display='block';this.style.display='none';\">Display W&B run</button><iframe src='https://wandb.ai/vaklr-bonn/simple-autoencoder-training/runs/gpzehiov?jupyter=true' style='border:none;width:100%;height:420px;display:none;'></iframe>"
      ],
      "text/plain": [
       "<wandb.sdk.wandb_run.Run at 0x7f3c2c8b7310>"
      ]
     },
     "execution_count": 8,
     "metadata": {},
     "output_type": "execute_result"
    }
   ],
   "source": [
    "import wandb\n",
    "\n",
    "BATCH_SIZE = 32\n",
    "# Initialize wandb\n",
    "wandb.init(project=\"simple-autoencoder-training\", config={\"learning_rate\": LEARNING_RATE, \"epochs\": EPOCHS_COUNT, \"batch_size\": BATCH_SIZE})"
   ]
  },
  {
   "cell_type": "markdown",
   "metadata": {},
   "source": [
    "### Preparation"
   ]
  },
  {
   "cell_type": "markdown",
   "metadata": {},
   "source": [
    "Take the first batch from the datamodule"
   ]
  },
  {
   "cell_type": "code",
   "execution_count": 9,
   "metadata": {},
   "outputs": [
    {
     "data": {
      "text/plain": [
       "torch.Size([32, 1, 256, 256])"
      ]
     },
     "execution_count": 9,
     "metadata": {},
     "output_type": "execute_result"
    }
   ],
   "source": [
    "data_batch = next(iter(datamodule.val_dataloader()))\n",
    "\n",
    "data_sample = data_batch['input']\n",
    "data_sample.size() # [batch size, channels, width, hegiht]"
   ]
  },
  {
   "cell_type": "markdown",
   "metadata": {},
   "source": [
    "Use hooks to capture hidden layer activations in the batch"
   ]
  },
  {
   "cell_type": "code",
   "execution_count": 10,
   "metadata": {},
   "outputs": [],
   "source": [
    "wrapper, layer_names = capture_convolution_layers(model, device, data_sample)"
   ]
  },
  {
   "cell_type": "code",
   "execution_count": 11,
   "metadata": {},
   "outputs": [
    {
     "name": "stdout",
     "output_type": "stream",
     "text": [
      "shape of the selected layer ([COUNT, C, H, W]): torch.Size([32, 32, 64, 64])\n"
     ]
    }
   ],
   "source": [
    "# layer_samples = wrapper.layer_activations[layer_names[LAYER_ID]]\n",
    "layer_samples = wrapper.layer_activations[LAYER_NAME]\n",
    "\n",
    "print(f\"shape of the selected layer ([COUNT, C, H, W]): {layer_samples.size()}\")"
   ]
  },
  {
   "cell_type": "code",
   "execution_count": 12,
   "metadata": {},
   "outputs": [],
   "source": [
    "BATCH_COUNT, C, H, W = layer_samples.detach().numpy().shape"
   ]
  },
  {
   "cell_type": "markdown",
   "metadata": {},
   "source": [
    "## Experiments (single & batch)"
   ]
  },
  {
   "cell_type": "markdown",
   "metadata": {},
   "source": [
    "Define a train function"
   ]
  },
  {
   "cell_type": "code",
   "execution_count": 13,
   "metadata": {},
   "outputs": [],
   "source": [
    "def train_batch(autoencoder, num_epochs: int, samples, logger = None):\n",
    "    criterion = nn.MSELoss()\n",
    "    optimizer = torch.optim.Adam(autoencoder.parameters(), lr=LEARNING_RATE)\n",
    "\n",
    "    for epoch in range(num_epochs):\n",
    "        epoch_loss = .0\n",
    "        optimizer.zero_grad()\n",
    "        \n",
    "        for image in samples:\n",
    "            _latent, reconstructed = autoencoder(image)\n",
    "            loss = criterion(reconstructed, image)\n",
    "            epoch_loss += loss\n",
    "\n",
    "        if logger:\n",
    "                logger({ \"epoch_loss\": epoch_loss/len(samples) })\n",
    "\n",
    "        print(f\"Epoch [{epoch+1}/{num_epochs}], Loss: {epoch_loss/len(samples):.4f}\")\n",
    "        epoch_loss.backward()\n",
    "        optimizer.step()\n",
    "\n",
    "    return autoencoder\n"
   ]
  },
  {
   "cell_type": "markdown",
   "metadata": {},
   "source": [
    "Define visualization functions:"
   ]
  },
  {
   "cell_type": "code",
   "execution_count": 14,
   "metadata": {},
   "outputs": [],
   "source": [
    "def visualize(image):\n",
    "    if image.shape[0] > 3:  # If more than 3 channels, average channels\n",
    "        # return image.mean(axis=0)\n",
    "        return image[0]\n",
    "    else:  # If 3 or fewer channels, just transpose to match image format\n",
    "        return image.transpose(1, 2, 0)  # [C, H, W] -> [H, W, C]"
   ]
  },
  {
   "cell_type": "code",
   "execution_count": 15,
   "metadata": {},
   "outputs": [],
   "source": [
    "def plot_results(orig, reconstr, latent):\n",
    "    # Create a side-by-side plot\n",
    "    fig, axes = plt.subplots(1, 3, figsize=(15, 5))\n",
    "\n",
    "    # Original Image\n",
    "    axes[0].imshow(visualize(orig), cmap='gray')\n",
    "    axes[0].set_title(\"Original Image\")\n",
    "    axes[0].axis(\"off\")\n",
    "\n",
    "    # Reconstructed Image\n",
    "    axes[1].imshow(visualize(reconstr), cmap='gray')\n",
    "    axes[1].set_title(\"Reconstructed Image\")\n",
    "    axes[1].axis(\"off\")\n",
    "\n",
    "    # Latent Representation (3 channels, like RGB)\n",
    "    axes[2].imshow(latent.transpose(1, 2, 0))  # Transpose for [H, W, C]\n",
    "    axes[2].set_title(\"Latent Representation\")\n",
    "    axes[2].axis(\"off\")\n",
    "\n",
    "    plt.tight_layout()\n",
    "    plt.show()"
   ]
  },
  {
   "cell_type": "code",
   "execution_count": 16,
   "metadata": {},
   "outputs": [
    {
     "name": "stdout",
     "output_type": "stream",
     "text": [
      "torch.Size([1, 256, 256])\n"
     ]
    },
    {
     "data": {
      "text/plain": [
       "(np.float64(-0.5), np.float64(255.5), np.float64(255.5), np.float64(-0.5))"
      ]
     },
     "execution_count": 16,
     "metadata": {},
     "output_type": "execute_result"
    },
    {
     "data": {
      "image/png": "[encoded data removed]",
      "text/plain": [
       "<Figure size 640x480 with 1 Axes>"
      ]
     },
     "metadata": {},
     "output_type": "display_data"
    }
   ],
   "source": [
    "data_sample_target = data_batch['target'][SAMPLE_ID]\n",
    "print(data_sample_target.size())\n",
    "\n",
    "plt.imshow(data_sample_target.detach().numpy().transpose(1, 2, 0))\n",
    "plt.title(f'Target image for the sample id={SAMPLE_ID}')\n",
    "plt.axis(\"off\")"
   ]
  },
  {
   "cell_type": "markdown",
   "metadata": {},
   "source": [
    "### Single Layer Training"
   ]
  },
  {
   "cell_type": "markdown",
   "metadata": {},
   "source": [
    "Create an instance of Autoencoder for training"
   ]
  },
  {
   "cell_type": "code",
   "execution_count": 17,
   "metadata": {},
   "outputs": [
    {
     "name": "stdout",
     "output_type": "stream",
     "text": [
      "defined an autoencoder with input channels=32 and out channels=3\n"
     ]
    }
   ],
   "source": [
    "BATCH_COUNT, C, H, W = layer_samples.detach().numpy().shape\n",
    "\n",
    "single_autoencoder = FeatureAutoencoder(C, OUT_DIMS)"
   ]
  },
  {
   "cell_type": "code",
   "execution_count": 18,
   "metadata": {},
   "outputs": [
    {
     "name": "stdout",
     "output_type": "stream",
     "text": [
      "Epoch [1/30], Loss: 0.9996\n",
      "Epoch [2/30], Loss: 0.9919\n",
      "Epoch [3/30], Loss: 0.9690\n",
      "Epoch [4/30], Loss: 0.9253\n",
      "Epoch [5/30], Loss: 0.8504\n",
      "Epoch [6/30], Loss: 0.7518\n",
      "Epoch [7/30], Loss: 0.6929\n",
      "Epoch [8/30], Loss: 0.5860\n",
      "Epoch [9/30], Loss: 0.5046\n",
      "Epoch [10/30], Loss: 0.4834\n",
      "Epoch [11/30], Loss: 0.4590\n",
      "Epoch [12/30], Loss: 0.4461\n",
      "Epoch [13/30], Loss: 0.4219\n",
      "Epoch [14/30], Loss: 0.4152\n",
      "Epoch [15/30], Loss: 0.4039\n",
      "Epoch [16/30], Loss: 0.3881\n",
      "Epoch [17/30], Loss: 0.3776\n",
      "Epoch [18/30], Loss: 0.3707\n",
      "Epoch [19/30], Loss: 0.3651\n",
      "Epoch [20/30], Loss: 0.3561\n",
      "Epoch [21/30], Loss: 0.3460\n",
      "Epoch [22/30], Loss: 0.3386\n",
      "Epoch [23/30], Loss: 0.3318\n",
      "Epoch [24/30], Loss: 0.3218\n",
      "Epoch [25/30], Loss: 0.3138\n",
      "Epoch [26/30], Loss: 0.3103\n",
      "Epoch [27/30], Loss: 0.3042\n",
      "Epoch [28/30], Loss: 0.2961\n",
      "Epoch [29/30], Loss: 0.2886\n",
      "Epoch [30/30], Loss: 0.2820\n"
     ]
    }
   ],
   "source": [
    "single_autoencoder = train_batch(single_autoencoder, EPOCHS_COUNT, [layer_samples[SAMPLE_ID]])"
   ]
  },
  {
   "cell_type": "markdown",
   "metadata": {},
   "source": [
    "Show the results"
   ]
  },
  {
   "cell_type": "code",
   "execution_count": 19,
   "metadata": {},
   "outputs": [],
   "source": [
    "selected_sample = layer_samples[SAMPLE_ID]\n",
    "latent, reconstructed = single_autoencoder(selected_sample)"
   ]
  },
  {
   "cell_type": "code",
   "execution_count": 20,
   "metadata": {},
   "outputs": [],
   "source": [
    "original_np = selected_sample.detach().numpy()\n",
    "latent_np = latent.detach().numpy()\n",
    "reconstructed_np = reconstructed.detach().numpy()"
   ]
  },
  {
   "cell_type": "code",
   "execution_count": 21,
   "metadata": {},
   "outputs": [
    {
     "name": "stderr",
     "output_type": "stream",
     "text": [
      "Clipping input data to the valid range for imshow with RGB data ([0..1] for floats or [0..255] for integers). Got range [-9.589687..4.543755].\n"
     ]
    },
    {
     "data": {
      "image/png": "[encoded data removed]",
      "text/plain": [
       "<Figure size 1500x500 with 3 Axes>"
      ]
     },
     "metadata": {},
     "output_type": "display_data"
    }
   ],
   "source": [
    "plot_results(original_np, reconstructed_np, latent_np)"
   ]
  },
  {
   "cell_type": "code",
   "execution_count": 22,
   "metadata": {},
   "outputs": [
    {
     "name": "stdout",
     "output_type": "stream",
     "text": [
      "MSE Error: 0.27714574337005615\n"
     ]
    }
   ],
   "source": [
    "import numpy as np\n",
    "\n",
    "mse_error = np.mean((original_np - reconstructed_np) ** 2)\n",
    "\n",
    "print(f\"MSE Error: {mse_error.item()}\")\n"
   ]
  },
  {
   "cell_type": "markdown",
   "metadata": {},
   "source": [
    "### Single Batch Training"
   ]
  },
  {
   "cell_type": "code",
   "execution_count": 23,
   "metadata": {},
   "outputs": [
    {
     "name": "stdout",
     "output_type": "stream",
     "text": [
      "defined an autoencoder with input channels=32 and out channels=3\n"
     ]
    }
   ],
   "source": [
    "BATCH_COUNT, C, H, W = layer_samples.detach().numpy().shape\n",
    "\n",
    "autoencoder_batch = FeatureAutoencoder(C, OUT_DIMS)"
   ]
  },
  {
   "cell_type": "code",
   "execution_count": 24,
   "metadata": {},
   "outputs": [
    {
     "name": "stdout",
     "output_type": "stream",
     "text": [
      "Epoch [1/30], Loss: 1.0001\n",
      "Epoch [2/30], Loss: 0.9943\n",
      "Epoch [3/30], Loss: 0.9728\n",
      "Epoch [4/30], Loss: 0.9330\n",
      "Epoch [5/30], Loss: 0.8618\n",
      "Epoch [6/30], Loss: 0.7657\n",
      "Epoch [7/30], Loss: 0.7338\n",
      "Epoch [8/30], Loss: 0.6240\n",
      "Epoch [9/30], Loss: 0.6261\n",
      "Epoch [10/30], Loss: 0.6262\n",
      "Epoch [11/30], Loss: 0.5772\n",
      "Epoch [12/30], Loss: 0.5514\n",
      "Epoch [13/30], Loss: 0.5480\n",
      "Epoch [14/30], Loss: 0.5433\n",
      "Epoch [15/30], Loss: 0.5225\n",
      "Epoch [16/30], Loss: 0.4951\n",
      "Epoch [17/30], Loss: 0.4736\n",
      "Epoch [18/30], Loss: 0.4554\n",
      "Epoch [19/30], Loss: 0.4398\n",
      "Epoch [20/30], Loss: 0.4308\n",
      "Epoch [21/30], Loss: 0.4182\n",
      "Epoch [22/30], Loss: 0.3986\n",
      "Epoch [23/30], Loss: 0.3842\n",
      "Epoch [24/30], Loss: 0.3725\n",
      "Epoch [25/30], Loss: 0.3586\n",
      "Epoch [26/30], Loss: 0.3495\n",
      "Epoch [27/30], Loss: 0.3442\n",
      "Epoch [28/30], Loss: 0.3372\n",
      "Epoch [29/30], Loss: 0.3299\n",
      "Epoch [30/30], Loss: 0.3208\n"
     ]
    }
   ],
   "source": [
    "autoencoder_batch = train_batch(autoencoder_batch, EPOCHS_COUNT, layer_samples)"
   ]
  },
  {
   "cell_type": "markdown",
   "metadata": {},
   "source": [
    "Show the results"
   ]
  },
  {
   "cell_type": "code",
   "execution_count": 25,
   "metadata": {},
   "outputs": [],
   "source": [
    "selected_sample = layer_samples[SAMPLE_ID]\n",
    "latent_batch, reconstructed_batch = autoencoder_batch(selected_sample)"
   ]
  },
  {
   "cell_type": "code",
   "execution_count": 26,
   "metadata": {},
   "outputs": [],
   "source": [
    "original_batch_np = selected_sample.detach().numpy()\n",
    "latent_batch_np = latent_batch.detach().numpy()\n",
    "reconstructed_batch_np = reconstructed_batch.detach().numpy()"
   ]
  },
  {
   "cell_type": "code",
   "execution_count": 27,
   "metadata": {},
   "outputs": [
    {
     "name": "stderr",
     "output_type": "stream",
     "text": [
      "Clipping input data to the valid range for imshow with RGB data ([0..1] for floats or [0..255] for integers). Got range [-7.6880636..11.730665].\n"
     ]
    },
    {
     "data": {
      "image/png": "[encoded data removed]",
      "text/plain": [
       "<Figure size 1500x500 with 3 Axes>"
      ]
     },
     "metadata": {},
     "output_type": "display_data"
    }
   ],
   "source": [
    "plot_results(original_batch_np, reconstructed_batch_np, latent_batch_np)"
   ]
  },
  {
   "cell_type": "code",
   "execution_count": 28,
   "metadata": {},
   "outputs": [
    {
     "name": "stdout",
     "output_type": "stream",
     "text": [
      "MSE Error: 0.29363593459129333\n"
     ]
    }
   ],
   "source": [
    "mse_error = np.mean((original_np - reconstructed_batch_np) ** 2)\n",
    "\n",
    "print(f\"MSE Error: {mse_error.item()}\")"
   ]
  },
  {
   "cell_type": "markdown",
   "metadata": {},
   "source": [
    "## Whole Dataset Training"
   ]
  },
  {
   "cell_type": "markdown",
   "metadata": {},
   "source": [
    "### Train new autoencoded"
   ]
  },
  {
   "cell_type": "code",
   "execution_count": 14,
   "metadata": {},
   "outputs": [],
   "source": [
    "from dimensionality_reduction.train import train_dr"
   ]
  },
  {
   "cell_type": "code",
   "execution_count": 15,
   "metadata": {},
   "outputs": [
    {
     "name": "stdout",
     "output_type": "stream",
     "text": [
      "defined an autoencoder with input channels=32 and out channels=3\n"
     ]
    }
   ],
   "source": [
    "autoencoder_dataset = FeatureAutoencoder(C, OUT_DIMS)"
   ]
  },
  {
   "cell_type": "code",
   "execution_count": 16,
   "metadata": {},
   "outputs": [],
   "source": [
    "# Track model parameters\n",
    "wandb.watch(autoencoder_dataset, log=\"all\", log_freq=10)"
   ]
  },
  {
   "cell_type": "code",
   "execution_count": 17,
   "metadata": {},
   "outputs": [
    {
     "name": "stdout",
     "output_type": "stream",
     "text": [
      "Epoch [1/30], Loss: 37.307799\n",
      "Epoch [2/30], Loss: 9.608831\n",
      "Epoch [3/30], Loss: 7.345538\n",
      "Epoch [4/30], Loss: 6.219374\n",
      "Epoch [5/30], Loss: 5.599869\n",
      "Epoch [6/30], Loss: 5.170984\n",
      "Epoch [7/30], Loss: 4.869134\n",
      "Epoch [8/30], Loss: 4.672767\n",
      "Epoch [9/30], Loss: 4.463126\n",
      "Epoch [10/30], Loss: 4.373555\n",
      "Epoch [11/30], Loss: 4.223715\n",
      "Epoch [12/30], Loss: 4.161680\n",
      "Epoch [13/30], Loss: 4.059301\n",
      "Epoch [14/30], Loss: 4.008651\n",
      "Epoch [15/30], Loss: 3.914349\n",
      "Epoch [16/30], Loss: 3.870544\n",
      "Epoch [17/30], Loss: 3.830734\n",
      "Epoch [18/30], Loss: 3.752542\n",
      "Epoch [19/30], Loss: 3.745197\n",
      "Epoch [20/30], Loss: 3.685490\n",
      "Epoch [21/30], Loss: 3.643561\n",
      "Epoch [22/30], Loss: 3.615911\n",
      "Epoch [23/30], Loss: 3.586025\n",
      "Epoch [24/30], Loss: 3.541805\n",
      "Epoch [25/30], Loss: 3.526266\n",
      "Epoch [26/30], Loss: 3.495696\n",
      "Epoch [27/30], Loss: 3.467890\n",
      "Epoch [28/30], Loss: 3.451705\n",
      "Epoch [29/30], Loss: 3.421059\n",
      "Epoch [30/30], Loss: 3.390899\n"
     ]
    },
    {
     "data": {
      "text/plain": [
       "FeatureAutoencoder(\n",
       "  (encoder): Sequential(\n",
       "    (0): Conv2d(32, 64, kernel_size=(3, 3), stride=(1, 1), padding=(1, 1))\n",
       "    (1): ReLU()\n",
       "    (2): Conv2d(64, 32, kernel_size=(3, 3), stride=(1, 1), padding=(1, 1))\n",
       "    (3): ReLU()\n",
       "    (4): Conv2d(32, 3, kernel_size=(3, 3), stride=(1, 1), padding=(1, 1))\n",
       "  )\n",
       "  (decoder): Sequential(\n",
       "    (0): Conv2d(3, 32, kernel_size=(3, 3), stride=(1, 1), padding=(1, 1))\n",
       "    (1): ReLU()\n",
       "    (2): Conv2d(32, 64, kernel_size=(3, 3), stride=(1, 1), padding=(1, 1))\n",
       "    (3): ReLU()\n",
       "    (4): Conv2d(64, 32, kernel_size=(3, 3), stride=(1, 1), padding=(1, 1))\n",
       "  )\n",
       ")"
      ]
     },
     "execution_count": 17,
     "metadata": {},
     "output_type": "execute_result"
    }
   ],
   "source": [
    "train_dr(autoencoder=autoencoder_dataset, datamodule=datamodule, model=model, device=device,\n",
    "                       logger=wandb.log, layer_names=[LAYER_NAME], num_epochs=EPOCHS_COUNT)"
   ]
  },
  {
   "cell_type": "code",
   "execution_count": 18,
   "metadata": {},
   "outputs": [
    {
     "data": {
      "text/html": [
       "<style>\n",
       "    table.wandb td:nth-child(1) { padding: 0 10px; text-align: left ; width: auto;} td:nth-child(2) {text-align: left ; width: 100%}\n",
       "    .wandb-row { display: flex; flex-direction: row; flex-wrap: wrap; justify-content: flex-start; width: 100% }\n",
       "    .wandb-col { display: flex; flex-direction: column; flex-basis: 100%; flex: 1; padding: 10px; }\n",
       "    </style>\n",
       "<div class=\"wandb-row\"><div class=\"wandb-col\"><h3>Run history:</h3><br/><table class=\"wandb\"><tr><td>epoch_loss</td><td>█▂▂▂▁▁▁▁▁▁▁▁▁▁▁▁▁▁▁▁▁▁▁▁▁▁▁▁▁▁</td></tr><tr><td>train_batch_loss</td><td>█▄▃▃▂▂▂▂▂▂▁▁▂▁▁▁▁▁▁▁▁▁▁▁▁▁▁▁▁▁▁▁▁▁▁▁▁▁▁▁</td></tr></table><br/></div><div class=\"wandb-col\"><h3>Run summary:</h3><br/><table class=\"wandb\"><tr><td>epoch_loss</td><td>3.3909</td></tr><tr><td>train_batch_loss</td><td>0.02413</td></tr></table><br/></div></div>"
      ],
      "text/plain": [
       "<IPython.core.display.HTML object>"
      ]
     },
     "metadata": {},
     "output_type": "display_data"
    },
    {
     "data": {
      "text/html": [
       " View run <strong style=\"color:#cdcd00\">likely-lion-6</strong> at: <a href='https://wandb.ai/vaklr-bonn/simple-autoencoder-training/runs/gpzehiov' target=\"_blank\">https://wandb.ai/vaklr-bonn/simple-autoencoder-training/runs/gpzehiov</a><br/> View project at: <a href='https://wandb.ai/vaklr-bonn/simple-autoencoder-training' target=\"_blank\">https://wandb.ai/vaklr-bonn/simple-autoencoder-training</a><br/>Synced 4 W&B file(s), 0 media file(s), 3 artifact file(s) and 0 other file(s)"
      ],
      "text/plain": [
       "<IPython.core.display.HTML object>"
      ]
     },
     "metadata": {},
     "output_type": "display_data"
    },
    {
     "data": {
      "text/html": [
       "Find logs at: <code>./wandb/run-20250304_213100-gpzehiov/logs</code>"
      ],
      "text/plain": [
       "<IPython.core.display.HTML object>"
      ]
     },
     "metadata": {},
     "output_type": "display_data"
    }
   ],
   "source": [
    "wandb.finish()"
   ]
  },
  {
   "cell_type": "code",
   "execution_count": 19,
   "metadata": {},
   "outputs": [],
   "source": [
    "import torch\n",
    "\n",
    "def print_image_error(original, reconstruction):\n",
    "    criterion = torch.nn.MSELoss()\n",
    "    mse_error = criterion(original, reconstruction).item()\n",
    "\n",
    "    print(f\"MSE Error: {mse_error}\")"
   ]
  },
  {
   "cell_type": "code",
   "execution_count": 26,
   "metadata": {},
   "outputs": [],
   "source": [
    "selected_sample = layer_samples[10]\n",
    "original_np = selected_sample.detach().numpy()"
   ]
  },
  {
   "cell_type": "code",
   "execution_count": 27,
   "metadata": {},
   "outputs": [],
   "source": [
    "latent, reconstructed = autoencoder_dataset(selected_sample)\n",
    "latent_np = latent.detach().numpy()\n",
    "reconstructed_np = reconstructed.detach().numpy()"
   ]
  },
  {
   "cell_type": "code",
   "execution_count": 28,
   "metadata": {},
   "outputs": [
    {
     "name": "stderr",
     "output_type": "stream",
     "text": [
      "/home/keller/repos/MedImSeg-Lab24/src/dimensionality_reduction/../visualization_utils/color_space_transformers.py:27: UserWarning: Conversion from CIE-LAB, via XYZ to sRGB color space resulted in 186 negative Z values that have been clipped to zero\n",
      "  rgb_image = color.lab2rgb(lab_image)\n"
     ]
    },
    {
     "data": {
      "image/png": "[encoded data removed]",
      "text/plain": [
       "<Figure size 1500x500 with 3 Axes>"
      ]
     },
     "metadata": {},
     "output_type": "display_data"
    },
    {
     "name": "stdout",
     "output_type": "stream",
     "text": [
      "MSE Error: 0.021367821842432022\n"
     ]
    }
   ],
   "source": [
    "from visualization_utils.layer_visualizer import LayerVisualizer\n",
    "\n",
    "layer_visualizer = LayerVisualizer()\n",
    "layer_visualizer.plot(original_np, reconstructed_np, latent_np)\n",
    "\n",
    "print_image_error(selected_sample, reconstructed)"
   ]
  },
  {
   "cell_type": "markdown",
   "metadata": {},
   "source": [
    "### Save  & load the autoencoder"
   ]
  },
  {
   "cell_type": "code",
   "execution_count": null,
   "metadata": {},
   "outputs": [
    {
     "name": "stdout",
     "output_type": "stream",
     "text": [
      "Model saved to ./simple_autoencoders/best_simple_encoder_e30.pth\n"
     ]
    }
   ],
   "source": [
    "from model_saver import ModelSaver\n",
    "\n",
    "FILE_NAME = 'best_simple_encoder_e30'\n",
    "\n",
    "saver = ModelSaver('./simple_autoencoders')\n",
    "\n",
    "saver.save_model_config(autoencoder_dataset, file_name=FILE_NAME)"
   ]
  },
  {
   "cell_type": "markdown",
   "metadata": {},
   "source": [
    "Load saved autoencoder"
   ]
  },
  {
   "cell_type": "code",
   "execution_count": 8,
   "metadata": {},
   "outputs": [
    {
     "name": "stdout",
     "output_type": "stream",
     "text": [
      "defined an autoencoder with input channels=32 and out channels=3\n",
      "Model loaded successfully\n"
     ]
    },
    {
     "name": "stderr",
     "output_type": "stream",
     "text": [
      "/home/keller/repos/MedImSeg-Lab24/src/dimensionality_reduction/../model_saver.py:30: FutureWarning: You are using `torch.load` with `weights_only=False` (the current default value), which uses the default pickle module implicitly. It is possible to construct malicious pickle data which will execute arbitrary code during unpickling (See https://github.com/pytorch/pytorch/blob/main/SECURITY.md#untrusted-models for more details). In a future release, the default value for `weights_only` will be flipped to `True`. This limits the functions that could be executed during unpickling. Arbitrary objects will no longer be allowed to be loaded via this mode unless they are explicitly allowlisted by the user via `torch.serialization.add_safe_globals`. We recommend you start setting `weights_only=True` for any use case where you don't have full control of the loaded file. Please open an issue on GitHub for any issues related to this experimental feature.\n",
      "  model.load_state_dict(torch.load(autoencoder_save_path))\n"
     ]
    }
   ],
   "source": [
    "# Initialize the same autoencoder structure\n",
    "autoencoder_saved = FeatureAutoencoder(32, 3)\n",
    "\n",
    "from model_saver import ModelSaver\n",
    "saver = ModelSaver('./simple_autoencoders')\n",
    "saver.load_autoencoder_config(autoencoder_saved, 'best_simple_encoder_e30')"
   ]
  },
  {
   "cell_type": "code",
   "execution_count": 9,
   "metadata": {},
   "outputs": [
    {
     "name": "stdout",
     "output_type": "stream",
     "text": [
      "0.025920015049876868\n",
      "0.025804498116485775\n"
     ]
    }
   ],
   "source": [
    "from dimensionality_reduction.train import get_avg_error\n",
    "\n",
    "print(get_avg_error(autoencoder=autoencoder_saved, dataloader=datamodule.train_dataloader,\n",
    "                                model=model, device='cuda:2',\n",
    "                                selected_layer_names=[LAYER_NAME]))\n",
    "\n",
    "print(get_avg_error(autoencoder=autoencoder_saved, dataloader=datamodule.val_dataloader,\n",
    "                                model=model, device='cuda:2',\n",
    "                                selected_layer_names=[LAYER_NAME]))"
   ]
  }
 ],
 "metadata": {
  "kernelspec": {
   "display_name": "ml",
   "language": "python",
   "name": "python3"
  },
  "language_info": {
   "codemirror_mode": {
    "name": "ipython",
    "version": 3
   },
   "file_extension": ".py",
   "mimetype": "text/x-python",
   "name": "python",
   "nbconvert_exporter": "python",
   "pygments_lexer": "ipython3",
   "version": "3.10.15"
  }
 },
 "nbformat": 4,
 "nbformat_minor": 2
}
